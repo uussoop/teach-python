{
 "cells": [
  {
   "cell_type": "markdown",
   "metadata": {},
   "source": [
    "# Inventory Management System - Session 2 Changes"
   ]
  },
  {
   "cell_type": "markdown",
   "metadata": {},
   "source": [
    "## New Features Added in Session 2"
   ]
  },
  {
   "cell_type": "markdown",
   "metadata": {},
   "source": [
    "The following new commands and features were added:"
   ]
  },
  {
   "cell_type": "code",
   "execution_count": null,
   "metadata": {},
   "outputs": [],
   "source": [
    "# 1. Search functionality\n",
    "@app.command(\"search\")\n",
    "def search_products_command(\n",
    "    search_term: str = typer.Option(..., prompt=True, help=\"Search term\")\n",
    "):\n",
    "    \"\"\"Search products by name, description, or category\"\"\""
   ]
  },
  {
   "cell_type": "code",
   "execution_count": null,
   "metadata": {},
   "outputs": [],
   "source": [
    "# 2. Low stock alerts\n",
    "@app.command(\"low-stock\")\n",
    "def low_stock_alerts_command():\n",
    "    \"\"\"Show products with stock below their threshold\"\"\""
   ]
  },
  {
   "cell_type": "code",
   "execution_count": null,
   "metadata": {},
   "outputs": [],
   "source": [
    "# 3. Sales recording\n",
    "@app.command(\"sell\")\n",
    "def record_sale_command(\n",
    "    product_id: int = typer.Option(..., prompt=True, help=\"Product ID\"),\n",
    "    quantity: int = typer.Option(..., prompt=True, help=\"Quantity sold\"),\n",
    "    sale_price: Optional[float] = typer.Option(None, prompt=True, help=\"Sale price per unit\")\n",
    "):\n",
    "    \"\"\"Record a product sale\"\"\""
   ]
  },
  {
   "cell_type": "code",
   "execution_count": null,
   "metadata": {},
   "outputs": [],
   "source": [
    "# 4. Sales history view\n",
    "@app.command(\"sales\")\n",
    "def view_sales_history(\n",
    "    product_id: Optional[int] = typer.Option(None, help=\"Filter by product ID\")\n",
    "):\n",
    "    \"\"\"View sales history, optionally filtered by product\"\"\""
   ]
  },
  {
   "cell_type": "markdown",
   "metadata": {},
   "source": [
    "## Updated Features"
   ]
  },
  {
   "cell_type": "markdown",
   "metadata": {},
   "source": [
    "Existing commands were enhanced with new fields:"
   ]
  },
  {
   "cell_type": "code",
   "execution_count": null,
   "metadata": {},
   "outputs": [],
   "source": [
    "# Added low_stock_threshold to product commands\n",
    "@app.command(\"add\")\n",
    "def add_product_command(\n",
    "    # ... other parameters ...\n",
    "    low_stock_threshold: int = typer.Option(10, prompt=True, help=\"Low stock threshold\")\n",
    "):\n",
    "    \"\"\"Add a new product to inventory\"\"\""
   ]
  },
  {
   "cell_type": "code",
   "execution_count": null,
   "metadata": {},
   "outputs": [],
   "source": [
    "@app.command(\"edit\")\n",
    "def edit_product_command(\n",
    "    # ... other parameters ...\n",
    "    low_stock_threshold: Optional[int] = typer.Option(None, help=\"New low stock threshold\")\n",
    "):\n",
    "    \"\"\"Edit an existing product\"\"\""
   ]
  },
  {
   "cell_type": "markdown",
   "metadata": {},
   "source": [
    "## Improved Display Features"
   ]
  },
  {
   "cell_type": "markdown",
   "metadata": {},
   "source": [
    "1. Added formatted tables for sales history\n",
    "2. Added low stock alerts table with red header\n",
    "3. Enhanced product tables with additional columns\n",
    "4. Added color-coded status messages"
   ]
  },
  {
   "cell_type": "code",
   "execution_count": null,
   "metadata": {},
   "outputs": [],
   "source": [
    "# Example of improved table display for sales\n",
    "table = Table(show_header=True, header_style=\"bold green\")\n",
    "table.add_column(\"Sale ID\", style=\"dim\")\n",
    "table.add_column(\"Product ID\")\n",
    "table.add_column(\"Quantity\", justify=\"right\")\n",
    "table.add_column(\"Price\", justify=\"right\")\n",
    "table.add_column(\"Total\", justify=\"right\")\n",
    "table.add_column(\"Date\")"
   ]
  },
  {
   "cell_type": "markdown",
   "metadata": {},
   "source": [
    "## Summary of Changes"
   ]
  },
  {
   "cell_type": "markdown",
   "metadata": {},
   "source": [
    "1. Added 4 new commands:\n",
    "   - search\n",
    "   - low-stock\n",
    "   - sell\n",
    "   - sales\n",
    "   \n",
    "2. Updated existing commands to support:\n",
    "   - low_stock_threshold field\n",
    "   \n",
    "3. Improved display features:\n",
    "   - Formatted tables with additional columns\n",
    "   - Color-coded status messages\n",
    "   - Better organized data presentation"
   ]
  }
 ],
 "metadata": {
  "kernelspec": {
   "display_name": "Python 3",
   "language": "python",
   "name": "python3"
  },
  "language_info": {
   "codemirror_mode": {
    "name": "ipython",
    "version": 3
   },
   "file_extension": ".py",
   "mimetype": "text/x-python",
   "name": "python",
   "nbconvert_exporter": "python",
   "pygments_lexer": "ipython3",
   "version": "3.8.5"
  }
 },
 "nbformat": 4,
 "nbformat_minor": 4
}
