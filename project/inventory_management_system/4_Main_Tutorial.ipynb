{
 "cells": [
  {
   "cell_type": "markdown",
   "metadata": {},
   "source": [
    "# Python Inventory System - Part 4: CLI Interface\n",
    "\n",
    "This notebook covers the Command Line Interface (CLI) for our Inventory Management System, focusing on the `cli.py` file. We'll learn how to build an interactive command-line application using Typer and Rich for beautiful console output.\n",
    "\n",
    "## What We'll Cover\n",
    "\n",
    "1. Introduction to Typer and Rich\n",
    "2. CLI Command Structure\n",
    "3. Implementing CRUD Operations\n",
    "4. Displaying Data with Rich Tables\n",
    "5. Error Handling and User Feedback"
   ]
  },
  {
   "cell_type": "markdown",
   "metadata": {},
   "source": [
    "## 1. Introduction to Typer and Rich\n",
    "\n",
    "**Typer** is a library for building CLI applications that's intuitive and easy to use. It's built on top of Click but uses Python type hints for defining commands and options.\n",
    "\n",
    "**Rich** is a Python library for rich text and beautiful formatting in the terminal.\n",
    "\n",
    "Let's install these dependencies first:"
   ]
  },
  {
   "cell_type": "code",
   "execution_count": null,
   "metadata": {},
   "outputs": [],
   "source": [
    "!pip install typer rich"
   ]
  },
  {
   "cell_type": "markdown",
   "metadata": {},
   "source": [
    "## 2. CLI Command Structure\n",
    "\n",
    "Our CLI application has several commands organized under a main Typer app:"
   ]
  },
  {
   "cell_type": "code",
   "execution_count": null,
   "metadata": {},
   "outputs": [],
   "source": [
    "import typer\n",
    "\n",
    "# Create the main Typer app\n",
    "app = typer.Typer(help=\"Inventory Management System\")\n",
    "\n",
    "# Example command structure\n",
    "@app.command(\"init\")\n",
    "def initialize_database():\n",
    "    \"\"\"Initialize the database with tables\"\"\"\n",
    "    print(\"Database initialized successfully!\")\n",
    "\n",
    "# This would be called with: python cli.py init\n",
    "# Try running this cell and then the command above"
   ]
  },
  {
   "cell_type": "markdown",
   "metadata": {},
   "source": [
    "### Key Components:\n",
    "\n",
    "1. **`@app.command()`**: Decorator to register a function as a CLI command\n",
    "2. **Command Help Text**: The function docstring becomes the command's help text\n",
    "3. **Options**: Defined using `typer.Option()` with various parameters\n",
    "4. **Rich Console**: Used for colored and formatted output"
   ]
  },
  {
   "cell_type": "markdown",
   "metadata": {},
   "source": [
    "## 3. Implementing CRUD Operations\n",
    "\n",
    "Our CLI implements four main CRUD operations:\n",
    "\n",
    "1. **Add** - Create new products\n",
    "2. **Edit** - Update existing products\n",
    "3. **Delete** - Remove products\n",
    "4. **List** - View all products"
   ]
  },
  {
   "cell_type": "markdown",
   "metadata": {},
   "source": [
    "### 3.1. Adding Products\n",
    "\n",
    "The `add` command creates new products with all required fields:"
   ]
  },
  {
   "cell_type": "code",
   "execution_count": null,
   "metadata": {},
   "outputs": [],
   "source": [
    "from rich.console import Console\n",
    "from models import Product\n",
    "\n",
    "console = Console()\n",
    "\n",
    "@app.command(\"add\")\n",
    "def add_product_command(\n",
    "    name: str = typer.Option(..., prompt=True, help=\"Product name\"),\n",
    "    description: str = typer.Option(..., prompt=True, help=\"Product description\"),\n",
    "    price: float = typer.Option(..., prompt=True, help=\"Product price\"),\n",
    "    stock_quantity: int = typer.Option(..., prompt=True, help=\"Current stock quantity\"),\n",
    "    category: str = typer.Option(..., prompt=True, help=\"Product category\")\n",
    "):\n",
    "    \"\"\"Add a new product to inventory\"\"\"\n",
    "    # In a real implementation, this would call add_product() from operations.py\n",
    "    product = Product(\n",
    "        name=name,\n",
    "        description=description,\n",
    "        price=price,\n",
    "        stock_quantity=stock_quantity,\n",
    "        category=category\n",
    "    )\n",
    "    \n",
    "    console.print(f\"[green]Product '{product.name}' added successfully![/green]\")\n",
    "    console.print(f\"[blue]Details: {product}[/blue]\")\n",
    "\n",
    "# Example usage:\n",
    "# python cli.py add --name \"Laptop\" --description \"Powerful laptop\" --price 999.99 --stock-quantity 10 --category \"Electronics\""
   ]
  },
  {
   "cell_type": "markdown",
   "metadata": {},
   "source": [
    "### Key Features:\n",
    "\n",
    "- `typer.Option(..., prompt=True)`: Makes the option required and prompts if not provided\n",
    "- Type hints (`str`, `float`, `int`) ensure proper data types\n",
    "- Rich formatting with `[green]` and `[/green]` for colored output"
   ]
  },
  {
   "cell_type": "markdown",
   "metadata": {},
   "source": [
    "### 3.2. Editing Products\n",
    "\n",
    "The `edit` command updates existing products with any provided fields:"
   ]
  },
  {
   "cell_type": "code",
   "execution_count": null,
   "metadata": {},
   "outputs": [],
   "source": [
    "@app.command(\"edit\")\n",
    "def edit_product_command(\n",
    "    product_id: int = typer.Option(..., prompt=True, help=\"Product ID to edit\"),\n",
    "    name: Optional[str] = typer.Option(None, help=\"New product name\"),\n",
    "    description: Optional[str] = typer.Option(None, help=\"New product description\"),\n",
    "    price: Optional[float] = typer.Option(None, help=\"New product price\"),\n",
    "    stock_quantity: Optional[int] = typer.Option(None, help=\"New stock quantity\"),\n",
    "    category: Optional[str] = typer.Option(None, help=\"New product category\")\n",
    "):\n",
    "    \"\"\"Edit an existing product\"\"\"\n",
    "    # In a real implementation, this would call edit_product() from operations.py\n",
    "    changes = {\n",
    "        \"name\": name,\n",
    "        \"description\": description,\n",
    "        \"price\": price,\n",
    "        \"stock_quantity\": stock_quantity,\n",
    "        \"category\": category\n",
    "    }\n",
    "    \n",
    "    # Filter out None values (unchanged fields)\n",
    "    changes = {k: v for k, v in changes.items() if v is not None}\n",
    "    \n",
    "    if changes:\n",
    "        console.print(f\"[yellow]Updating product ID {product_id} with: {changes}[/yellow]\")\n",
    "        console.print(f\"[green]Product (ID: {product_id}) updated successfully![/green]\")\n",
    "    else:\n",
    "        console.print(\"[yellow]No changes provided, nothing to update.[/yellow]\")\n",
    "\n",
    "# Example usage:\n",
    "# python cli.py edit --product-id 1 --price 899.99 --stock-quantity 8"
   ]
  },
  {
   "cell_type": "markdown",
   "metadata": {},
   "source": [
    "### Key Features:\n",
    "\n",
    "- Optional parameters with `Optional[str]` and `typer.Option(None)`\n",
    "- Only updates fields that are provided\n",
    "- Clear feedback about what's being updated"
   ]
  },
  {
   "cell_type": "markdown",
   "metadata": {},
   "source": [
    "### 3.3. Deleting Products\n",
    "\n",
    "The `delete` command removes products by their ID:"
   ]
  },
  {
   "cell_type": "code",
   "execution_count": null,
   "metadata": {},
   "outputs": [],
   "source": [
    "@app.command(\"delete\")\n",
    "def delete_product_command(\n",
    "    product_id: int = typer.Option(..., prompt=True, help=\"Product ID to delete\")\n",
    "):\n",
    "    \"\"\"Delete a product from inventory\"\"\"\n",
    "    # In a real implementation, this would call delete_product() from operations.py\n",
    "    console.print(f\"[red]Deleting product with ID {product_id}[/red]\")\n",
    "    console.print(f\"[green]Product (ID: {product_id}) deleted successfully![/green]\")\n",
    "\n",
    "# Example usage:\n",
    "# python cli.py delete --product-id 1"
   ]
  },
  {
   "cell_type": "markdown",
   "metadata": {},
   "source": [
    "## 4. Displaying Data with Rich Tables\n",
    "\n",
    "The `list` command shows all products in a beautifully formatted table:"
   ]
  },
  {
   "cell_type": "code",
   "execution_count": null,
   "metadata": {},
   "outputs": [],
   "source": [
    "from rich.table import Table\n",
    "\n",
    "@app.command(\"list\")\n",
    "def list_products_command():\n",
    "    \"\"\"List all products in inventory\"\"\"\n",
    "    # Sample data - in real implementation this would come from list_products()\n",
    "    products = [\n",
    "        Product(id=1, name=\"Laptop\", description=\"Powerful laptop\", price=999.99, stock_quantity=10, category=\"Electronics\"),\n",
    "        Product(id=2, name=\"Mouse\", description=\"Wireless mouse\", price=29.99, stock_quantity=25, category=\"Accessories\"),\n",
    "        Product(id=3, name=\"Keyboard\", description=\"Mechanical keyboard\", price=89.99, stock_quantity=15, category=\"Accessories\")\n",
    "    ]\n",
    "    \n",
    "    # Create a Rich Table\n",
    "    table = Table(show_header=True, header_style=\"bold blue\")\n",
    "    table.add_column(\"ID\", style=\"dim\")\n",
    "    table.add_column(\"Name\")\n",
    "    table.add_column(\"Description\")\n",
    "    table.add_column(\"Price\", justify=\"right\")\n",
    "    table.add_column(\"Stock\", justify=\"right\")\n",
    "    table.add_column(\"Category\")\n",
    "    \n",
    "    # Add rows to the table\n",
    "    for product in products:\n",
    "        table.add_row(\n",
    "            str(product.id),\n",
    "            product.name,\n",
    "            product.description,\n",
    "            f\"${product.price:.2f}\",\n",
    "            str(product.stock_quantity),\n",
    "            product.category\n",
    "        )\n",
    "    \n",
    "    console.print(table)\n",
    "\n",
    "# Display the sample table\n",
    "list_products_command()"
   ]
  },
  {
   "cell_type": "markdown",
   "metadata": {},
   "source": [
    "### Key Features:\n",
    "\n",
    "- Beautiful table formatting with headers and styles\n",
    "- Column alignment (right for numbers)\n",
    "- Consistent formatting of prices with 2 decimal places\n",
    "- Clear visual hierarchy"
   ]
  },
  {
   "cell_type": "markdown",
   "metadata": {},
   "source": [
    "## 5. Error Handling and User Feedback\n",
    "\n",
    "The CLI provides clear feedback for both success and error cases:"
   ]
  },
  {
   "cell_type": "code",
   "execution_count": null,
   "metadata": {},
   "outputs": [],
   "source": [
    "# Example of success and error messages\n",
    "console.print(\"[green]Operation completed successfully![/green]\")\n",
    "console.print(\"[yellow]Warning: Low stock inventory[/yellow]\")\n",
    "console.print(\"[red]Error: Product not found[/red]\")\n",
    "\n",
    "# Example of handling a not-found case\n",
    "product_id = 999\n",
    "found = False  # Simulate not found\n",
    "\n",
    "if found:\n",
    "    console.print(f\"[green]Product (ID: {product_id}) updated successfully![/green]\")\n",
    "else:\n",
    "    console.print(f\"[red]Product with ID {product_id} not found![/red]\")"
   ]
  },
  {
   "cell_type": "markdown",
   "metadata": {},
   "source": [
    "## Summary\n",
    "\n",
    "In this notebook, we've learned:\n",
    "\n",
    "1. **Typer basics** for building CLI applications\n",
    "2. **Rich formatting** for beautiful console output\n",
    "3. **CRUD command implementation** for product management\n",
    "4. **Data display** with Rich tables\n",
    "5. **User feedback** with colored status messages\n",
    "\n",
    "This CLI interface provides a user-friendly way to interact with our inventory system. The commands are intuitive and provide clear feedback, making the system easy to use for inventory management tasks."
   ]
  }
 ],
 "metadata": {
  "kernelspec": {
   "display_name": "Python 3",
   "language": "python",
   "name": "python3"
  },
  "language_info": {
   "codemirror_mode": {
    "name": "ipython",
    "version": 3
   },
   "file_extension": ".py",
   "mimetype": "text/x-python",
   "name": "python",
   "nbconvert_exporter": "python",
   "pygments_lexer": "ipython3",
   "version": "3.8.10"
  }
 },
 "nbformat": 4,
 "nbformat_minor": 4
}
