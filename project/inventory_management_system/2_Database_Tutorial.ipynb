{
 "cells": [
  {
   "cell_type": "markdown",
   "metadata": {},
   "source": [
    "# Python Inventory System - Part 2: Database Configuration\n",
    "\n",
    "This notebook covers the database configuration for our Inventory Management System, focusing on the `database.py` file. We'll learn how to set up database connections, initialize the database, and manage sessions using SQLModel.\n",
    "\n",
    "## What We'll Cover\n",
    "\n",
    "1. Introduction to database engines and sessions\n",
    "2. Configuring SQLite database connection\n",
    "3. Initializing the database\n",
    "4. Working with database sessions\n",
    "5. Best practices for database management"
   ]
  },
  {
   "cell_type": "markdown",
   "metadata": {},
   "source": [
    "## 1. Introduction to Database Engines and Sessions\n",
    "\n",
    "In SQLModel/SQLAlchemy, there are two key concepts:\n",
    "\n",
    "**Database Engine**:\n",
    "- The engine is the starting point for any SQLAlchemy application\n",
    "- It manages the connection pool and the dialect (SQLite, PostgreSQL, etc.)\n",
    "- Created once per application\n",
    "\n",
    "**Database Session**:\n",
    "- Represents a \"workspace\" for all database operations\n",
    "- Used to execute queries and track changes to objects\n",
    "- Typically created per request/operation and closed afterwards\n",
    "\n",
    "**Why this separation?**\n",
    "- Engine is expensive to create (connection pooling, dialect setup)\n",
    "- Sessions are lightweight and should be created frequently\n",
    "- This architecture is thread-safe and efficient"
   ]
  },
  {
   "cell_type": "markdown",
   "metadata": {},
   "source": [
    "## 2. Configuring SQLite Database Connection\n",
    "\n",
    "Let's examine the database configuration code:"
   ]
  },
  {
   "cell_type": "code",
   "execution_count": null,
   "metadata": {},
   "outputs": [],
   "source": [
    "import os\n",
    "from sqlmodel import SQLModel, create_engine, Session\n",
    "\n",
    "# Define the database file path\n",
    "DB_FILE = \"inventory.db\"\n",
    "DB_PATH = os.path.join(os.path.dirname(os.path.abspath(__file__)), DB_FILE)\n",
    "\n",
    "# Create SQLite URL\n",
    "SQLITE_URL = f\"sqlite:///{DB_PATH}\"\n",
    "\n",
    "# Create engine\n",
    "engine = create_engine(SQLITE_URL, echo=False, connect_args={\"check_same_thread\": False})"
   ]
  },
  {
   "cell_type": "markdown",
   "metadata": {},
   "source": [
    "### Key Components Explained:\n",
    "\n",
    "1. **Database File Path**:\n",
    "   ```python\n",
    "   DB_FILE = \"inventory.db\"\n",
    "   DB_PATH = os.path.join(os.path.dirname(os.path.abspath(__file__)), DB_FILE)\n",
    "   ```\n",
    "   - `DB_FILE`: Name of our SQLite database file\n",
    "   - `DB_PATH`: Full path to the database file, constructed using `os.path` functions\n",
    "   - `os.path.abspath(__file__)`: Gets absolute path of current file\n",
    "   - `os.path.dirname()`: Gets the directory containing the file\n",
    "\n",
    "2. **SQLite URL**:\n",
    "   ```python\n",
    "   SQLITE_URL = f\"sqlite:///{DB_PATH}\"\n",
    "   ```\n",
    "   - Format: `sqlite:///<path_to_db_file>`\n",
    "   - This is the connection string SQLAlchemy uses to connect to SQLite\n",
    "\n",
    "3. **Engine Creation**:\n",
    "   ```python\n",
    "   engine = create_engine(SQLITE_URL, echo=False, connect_args={\"check_same_thread\": False})\n",
    "   ```\n",
    "   - `create_engine()`: Creates the database engine\n",
    "   - `echo=False`: Disables SQL query logging (set to True for debugging)\n",
    "   - `connect_args={\"check_same_thread\": False}`: Allows multiple threads to use the same connection (important for some applications)"
   ]
  },
  {
   "cell_type": "markdown",
   "metadata": {},
   "source": [
    "## 3. Initializing the Database\n",
    "\n",
    "The `init_db()` function creates all tables defined in our SQLModel models:"
   ]
  },
  {
   "cell_type": "code",
   "execution_count": null,
   "metadata": {},
   "outputs": [],
   "source": [
    "def init_db():\n",
    "    \"\"\"Initialize the database and create tables if they don't exist\"\"\"\n",
    "    SQLModel.metadata.create_all(engine)\n",
    "\n",
    "# Example usage\n",
    "print(\"Creating database tables...\")\n",
    "init_db()\n",
    "print(\"Database tables created!\")"
   ]
  },
  {
   "cell_type": "markdown",
   "metadata": {},
   "source": [
    "### How It Works:\n",
    "\n",
    "- `SQLModel.metadata` contains information about all our models\n",
    "- `create_all(engine)`:\n",
    "  - Examines the metadata\n",
    "  - Generates appropriate CREATE TABLE statements\n",
    "  - Only creates tables that don't already exist\n",
    "\n",
    "**Important Notes:**\n",
    "- This should typically be called once when the application starts\n",
    "- In production, you might want more control over database migrations (consider Alembic)\n",
    "- For development, this simple approach works well"
   ]
  },
  {
   "cell_type": "markdown",
   "metadata": {},
   "source": [
    "## 4. Working with Database Sessions\n",
    "\n",
    "The `get_session()` function provides a way to work with database sessions:"
   ]
  },
  {
   "cell_type": "code",
   "execution_count": null,
   "metadata": {},
   "outputs": [],
   "source": [
    "def get_session():\n",
    "    \"\"\"Get a new database session\"\"\"\n",
    "    with Session(engine) as session:\n",
    "        yield session\n",
    "\n",
    "# Example usage\n",
    "print(\"Demonstrating session usage:\")\n",
    "\n",
    "# Get a session\n",
    "session_gen = get_session()\n",
    "session = next(session_gen)\n",
    "\n",
    "try:\n",
    "    # Session is now open and ready for use\n",
    "    print(f\"Session is active: {session.is_active}\")\n",
    "    \n",
    "    # Normally you would do database operations here\n",
    "    # For example: products = session.exec(select(Product)).all()\n",
    "    \n",
    "finally:\n",
    "    # The session will be automatically closed when exiting the 'with' block\n",
    "    # But we need to manually close it here since we used next()\n",
    "    session.close()\n",
    "    print(f\"Session is active after closing: {session.is_active}\")"
   ]
  },
  {
   "cell_type": "markdown",
   "metadata": {},
   "source": [
    "### Session Management Explained:\n",
    "\n",
    "1. **Session Creation**:\n",
    "   ```python\n",
    "   with Session(engine) as session:\n",
    "   ```\n",
    "   - Creates a new session bound to our engine\n",
    "   - The `with` block ensures the session is properly closed\n",
    "\n",
    "2. **Generator Function**:\n",
    "   ```python\n",
    "   yield session\n",
    "   ```\n",
    "   - Makes this function a generator\n",
    "   - Allows the session to be used in FastAPI dependency injection\n",
    "   - Ensures the session is properly closed after use\n",
    "\n",
    "3. **Session Lifecycle**:\n",
    "   - Sessions should be short-lived\n",
    "   - Typically used for a single logical operation\n",
    "   - Must be closed when done (handled automatically by the `with` block)\n",
    "\n",
    "**Why use a generator?**\n",
    "- This pattern works particularly well with FastAPI's dependency injection system\n",
    "- Ensures proper session cleanup even if an error occurs\n",
    "- Makes testing easier"
   ]
  },
  {
   "cell_type": "markdown",
   "metadata": {},
   "source": [
    "## 5. Best Practices for Database Management\n",
    "\n",
    "Here are some important best practices:\n",
    "\n",
    "1. **Session Lifetime**:\n",
    "   - Keep sessions short-lived\n",
    "   - Don't reuse sessions across different operations\n",
    "   - Always close sessions when done\n",
    "\n",
    "2. **Thread Safety**:\n",
    "   - The engine is thread-safe\n",
    "   - Sessions are not thread-safe - create a new session for each thread\n",
    "\n",
    "3. **Error Handling**:\n",
    "   - Always use try/finally or context managers (`with` blocks) with sessions\n",
    "   - Rollback transactions on errors\n",
    "\n",
    "4. **Production Considerations**:\n",
    "   - For production, consider connection pooling\n",
    "   - Use proper database migration tools (like Alembic)\n",
    "   - Consider using PostgreSQL instead of SQLite for production\n",
    "\n",
    "5. **Testing**:\n",
    "   - Use a separate test database\n",
    "   - Consider using transactions that can be rolled back after tests"
   ]
  },
  {
   "cell_type": "markdown",
   "metadata": {},
   "source": [
    "## Summary\n",
    "\n",
    "In this notebook, we've learned:\n",
    "\n",
    "1. **Database engines and sessions** - the core components of SQLAlchemy/SQLModel\n",
    "2. **Configuring SQLite connections** - setting up the database engine\n",
    "3. **Initializing the database** - creating tables from our models\n",
    "4. **Session management** - properly handling database sessions\n",
    "5. **Best practices** - for robust database operations\n",
    "\n",
    "This configuration forms the backbone of our inventory management system's data layer. In the next notebooks, we'll see how to use these components to perform actual database operations."
   ]
  }
 ],
 "metadata": {
  "kernelspec": {
   "display_name": "Python 3",
   "language": "python",
   "name": "python3"
  },
  "language_info": {
   "codemirror_mode": {
    "name": "ipython",
    "version": 3
   },
   "file_extension": ".py",
   "mimetype": "text/x-python",
   "name": "python",
   "nbconvert_exporter": "python",
   "pygments_lexer": "ipython3",
   "version": "3.8.10"
  }
 },
 "nbformat": 4,
 "nbformat_minor": 4
}
