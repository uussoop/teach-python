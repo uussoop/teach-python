{
 "cells": [
  {
   "cell_type": "markdown",
   "metadata": {},
   "source": [
    "# Python Inventory System - Session 2: Enhanced Database Operations\n",
    "\n",
    "This notebook covers the new features added to the database operations in Session 2 of our Inventory Management System. We'll explore the enhanced functionality including search, low stock alerts, and sales tracking.\n",
    "\n",
    "## What's New in Session 2\n",
    "\n",
    "1. Product Search Functionality\n",
    "2. Low Stock Alerts with Custom Thresholds\n",
    "3. Sales Tracking System\n",
    "4. Updated CRUD Operations"
   ]
  },
  {
   "cell_type": "markdown",
   "metadata": {},
   "source": [
    "## 1. Product Search Functionality\n",
    "\n",
    "We've added the ability to search products by name, description, or category using SQL `LIKE` queries."
   ]
  },
  {
   "cell_type": "code",
   "execution_count": null,
   "metadata": {},
   "outputs": [],
   "source": [
    "from typing import List\n",
    "from sqlmodel import or_\n",
    "from models import Product\n",
    "\n",
    "def search_products(search_term: str) -> List[Product]:\n",
    "    \"\"\"\n",
    "    Search for products by name, description, or category\n",
    "    \n",
    "    Args:\n",
    "        search_term: Search term to look for\n",
    "        \n",
    "    Returns:\n",
    "        List[Product]: List of matching products\n",
    "    \"\"\"\n",
    "    search_pattern = f\"%{search_term}%\"\n",
    "    \n",
    "    with Session(engine) as session:\n",
    "        statement = select(Product).where(\n",
    "            or_(\n",
    "                Product.name.like(search_pattern),\n",
    "                Product.description.like(search_pattern),\n",
    "                Product.category.like(search_pattern)\n",
    "            )\n",
    "        )\n",
    "        products = session.exec(statement).all()\n",
    "        return products\n",
    "\n",
    "# Example usage:\n",
    "# results = search_products(\"laptop\")\n",
    "# for product in results:\n",
    "#     print(product.name)"
   ]
  },
  {
   "cell_type": "markdown",
   "metadata": {},
   "source": [
    "### Key Features:\n",
    "\n",
    "- Uses SQL `LIKE` operator with wildcards (`%`)\n",
    "- Searches across multiple fields (name, description, category)\n",
    "- Case-sensitive search (database dependent)\n",
    "- Returns full Product objects with all attributes"
   ]
  },
  {
   "cell_type": "markdown",
   "metadata": {},
   "source": [
    "## 2. Low Stock Alerts with Custom Thresholds\n",
    "\n",
    "We've enhanced the product model to support customizable low stock thresholds and added a function to identify products that need restocking."
   ]
  },
  {
   "cell_type": "code",
   "execution_count": null,
   "metadata": {},
   "outputs": [],
   "source": [
    "def get_low_stock_products() -> List[Product]:\n",
    "    \"\"\"\n",
    "    Get list of products with stock below their threshold\n",
    "    \n",
    "    Returns:\n",
    "        List[Product]: List of products with low stock\n",
    "    \"\"\"\n",
    "    with Session(engine) as session:\n",
    "        statement = select(Product).where(\n",
    "            Product.stock_quantity <= Product.low_stock_threshold\n",
    "        )\n",
    "        products = session.exec(statement).all()\n",
    "        return products\n",
    "\n",
    "# Example usage:\n",
    "# low_stock_items = get_low_stock_products()\n",
    "# for product in low_stock_items:\n",
    "#     print(f\"{product.name} (Stock: {product.stock_quantity}, Threshold: {product.low_stock_threshold})\")"
   ]
  },
  {
   "cell_type": "markdown",
   "metadata": {},
   "source": [
    "### Key Features:\n",
    "\n",
    "- Each product now has a `low_stock_threshold` field\n",
    "- Threshold is customizable per product (default is 10)\n",
    "- Simple query to find all products needing restock\n",
    "- Returns full Product objects for display or notification"
   ]
  },
  {
   "cell_type": "markdown",
   "metadata": {},
   "source": [
    "## 3. Sales Tracking System\n",
    "\n",
    "We've added comprehensive sales tracking with two new functions:"
   ]
  },
  {
   "cell_type": "code",
   "execution_count": null,
   "metadata": {},
   "outputs": [],
   "source": [
    "from models import Sale\n",
    "\n",
    "def record_sale(product_id: int, quantity: int, sale_price: Optional[float] = None) -> Optional[Sale]:\n",
    "    \"\"\"\n",
    "    Record a sale of a product\n",
    "    \n",
    "    Args:\n",
    "        product_id: ID of the product sold\n",
    "        quantity: Quantity sold\n",
    "        sale_price: Price per unit (if different from current product price)\n",
    "        \n",
    "    Returns:\n",
    "        Sale: The recorded sale or None if product not found or insufficient stock\n",
    "    \"\"\"\n",
    "    with Session(engine) as session:\n",
    "        # Get the product\n",
    "        product = session.get(Product, product_id)\n",
    "        \n",
    "        if not product:\n",
    "            return None\n",
    "        \n",
    "        # Check stock\n",
    "        if product.stock_quantity < quantity:\n",
    "            return None\n",
    "        \n",
    "        # Create sale\n",
    "        price = sale_price if sale_price is not None else product.price\n",
    "        sale = Sale(\n",
    "            product_id=product_id,\n",
    "            quantity=quantity,\n",
    "            sale_price=price\n",
    "        )\n",
    "        \n",
    "        # Update stock\n",
    "        product.stock_quantity -= quantity\n",
    "        product.updated_at = datetime.now()\n",
    "        \n",
    "        # Save changes\n",
    "        session.add(sale)\n",
    "        session.add(product)\n",
    "        session.commit()\n",
    "        session.refresh(sale)\n",
    "        \n",
    "        return sale\n",
    "\n",
    ",",
    "def get_sales_history(product_id: Optional[int] = None) -> List[Sale]:\n",
    "    \"\"\"\n",
    "    Get sales history, optionally filtered by product\n",
    "    \n",
    "    Args:\n",
    "        product_id: Optional product ID to filter by\n",
    "        \n",
    "    Returns:\n",
    "        List[Sale]: List of sales\n",
    "    \"\"\"\n",
    "    with Session(engine) as session:\n",
    "        if product_id:\n",
    "            statement = select(Sale).where(\n",
    "                Sale.product_id == product_id\n",
    "            ).order_by(Sale.sale_date.desc())\n",
    "        else:\n",
    "            statement = select(Sale).order_by(Sale.sale_date.desc())\n",
    "        \n",
    "        sales = session.exec(statement).all()\n",
    "        return sales\n",
    "\n",
    "# Example usage:\n",
    "# sale = record_sale(1, 2)  # Sell 2 units of product ID 1\n",
    "# history = get_sales_history(1)  # Get sales for product ID 1"
   ]
  },
  {
   "cell_type": "markdown",
   "metadata": {},
   "source": [
    "### Key Features:\n",
    "\n",
    "- **Atomic operations**: Stock is reduced only if sale is recorded\n",
    "- **Flexible pricing**: Can override product price for sales/discounts\n",
    "- **Stock validation**: Prevents sales that would result in negative stock\n",
    "- **Comprehensive history**: View all sales or filter by product\n",
    "- **Audit trail**: Each sale records date/time automatically"
   ]
  },
  {
   "cell_type": "markdown",
   "metadata": {},
   "source": [
    "## 4. Updated CRUD Operations\n",
    "\n",
    "Existing functions have been enhanced to support the new features:"
   ]
  },
  {
   "cell_type": "code",
   "execution_count": null,
   "metadata": {},
   "outputs": [],
   "source": [
    "def add_product(\n",
    "    name: str, \n",
    "    description: str, \n",
    "    price: float, \n",
    "    stock_quantity: int, \n",
    "    category: str, \n",
    "    low_stock_threshold: int = 10\n",
    ") -> Product:\n",
    "    \"\"\"\n",
    "    Add a new product with low stock threshold support\n",
    "    \"\"\"\n",
    "    product = Product(\n",
    "        name=name,\n",
    "        description=description,\n",
    "        price=price,\n",
    "        stock_quantity=stock_quantity,\n",
    "        category=category,\n",
    "        low_stock_threshold=low_stock_threshold\n",
    "    )\n",
    "    session.add(product)\n",
    "    session.commit()\n",
    "    return product\n",
    "\n",
    "def edit_product(\n",
    "    product_id: int,\n",
    "    low_stock_threshold: Optional[int] = None,\n",
    "    **kwargs\n",
    ") -> bool:\n",
    "    \"\"\"\n",
    "    Edit product now supports low_stock_threshold updates\n",
    "    \"\"\"\n",
    "    product = session.get(Product, product_id)\n",
    "    if not product:\n",
    "        return False\n",
    "    \n",
    "    if low_stock_threshold is not None:\n",
    "        product.low_stock_threshold = low_stock_threshold\n",
    "    \n",
    "    # Handle other fields...\n",
    "    product.updated_at = datetime.now()\n",
    "    session.commit()\n",
    "    return True"
   ]
  },
  {
   "cell_type": "markdown",
   "metadata": {},
   "source": [
    "### Key Updates:\n",
    "\n",
    "- `add_product` now accepts `low_stock_threshold` parameter\n",
    "- `edit_product` can update the threshold\n",
    "- All functions maintain consistent error handling\n",
    "- Automatic timestamp updates on modifications"
   ]
  },
  {
   "cell_type": "markdown",
   "metadata": {},
   "source": [
    "## Summary\n",
    "\n",
    "In this session, we've enhanced our inventory system with:\n",
    "\n",
    "1. **Powerful search** to quickly find products\n",
    "2. **Smart inventory alerts** with customizable thresholds\n",
    "3. **Comprehensive sales tracking** with history\n",
    "4. **Updated operations** to support new features\n",
    "\n",
    "These improvements make the system more practical for real-world inventory management while maintaining clean, type-safe code."
   ]
  }
 ],
 "metadata": {
  "kernelspec": {
   "display_name": "Python 3",
   "language": "python",
   "name": "python3"
  },
  "language_info": {
   "codemirror_mode": {
    "name": "ipython",
    "version": 3
   },
   "file_extension": ".py",
   "mimetype": "text/x-python",
   "name": "python",
   "nbconvert_exporter": "python",
   "pygments_lexer": "ipython3",
   "version": "3.8.10"
  }
 },
 "nbformat": 4,
 "nbformat_minor": 4
}
