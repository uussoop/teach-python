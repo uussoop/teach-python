{
 "cells": [
  {
   "cell_type": "markdown",
   "metadata": {},
   "source": [
    "# Python Inventory System - Part 1: Data Models\n",
    "\n",
    "This notebook covers the data models used in our Inventory Management System, focusing on the `models.py` file. We'll learn how to define database models using SQLModel, which is a modern Python library that combines SQLAlchemy and Pydantic.\n",
    "\n",
    "## What We'll Cover\n",
    "\n",
    "1. Introduction to Object-Relational Mapping (ORM)\n",
    "2. SQLModel basics\n",
    "3. Creating our Product model\n",
    "4. Understanding model fields and options\n",
    "5. Working with model instances"
   ]
  },
  {
   "cell_type": "markdown",
   "metadata": {},
   "source": [
    "## 1. Introduction to Object-Relational Mapping (ORM)\n",
    "\n",
    "**Object-Relational Mapping (ORM)** is a programming technique that lets you interact with your database using Python objects instead of writing raw SQL queries. This makes your code more Pythonic and type-safe.\n",
    "\n",
    "**Benefits of using an ORM:**\n",
    "- Write Python code instead of SQL\n",
    "- Work with Python objects instead of database rows\n",
    "- Type checking and validation\n",
    "- Database-agnostic code (can switch between SQLite, PostgreSQL, etc.)\n",
    "- Less boilerplate code\n",
    "\n",
    "**Traditional approach vs. ORM approach:**\n",
    "\n",
    "**Traditional (SQL):**\n",
    "```python\n",
    "cursor.execute(\"INSERT INTO products (name, price) VALUES (?, ?)\", (\"Laptop\", 999.99))\n",
    "```\n",
    "\n",
    "**ORM approach:**\n",
    "```python\n",
    "product = Product(name=\"Laptop\", price=999.99)\n",
    "session.add(product)\n",
    "session.commit()\n",
    "```"
   ]
  },
  {
   "cell_type": "markdown",
   "metadata": {},
   "source": [
    "## 2. SQLModel Basics\n",
    "\n",
    "**SQLModel** is a library created by the same author as FastAPI. It combines:\n",
    "- **SQLAlchemy**: A powerful ORM for Python\n",
    "- **Pydantic**: A data validation and settings management library\n",
    "\n",
    "Let's install SQLModel first:"
   ]
  },
  {
   "cell_type": "code",
   "execution_count": null,
   "metadata": {},
   "outputs": [],
   "source": [
    "!pip install sqlmodel"
   ]
  },
  {
   "cell_type": "markdown",
   "metadata": {},
   "source": [
    "Let's start with a simple example of a SQLModel model:"
   ]
  },
  {
   "cell_type": "code",
   "execution_count": null,
   "metadata": {},
   "outputs": [],
   "source": [
    "from typing import Optional\n",
    "from sqlmodel import Field, SQLModel\n",
    "\n",
    "# Define a simple model\n",
    "class SimpleProduct(SQLModel, table=True):\n",
    "    id: Optional[int] = Field(default=None, primary_key=True)\n",
    "    name: str\n",
    "    price: float\n",
    "\n",
    "# Create an instance of the model\n",
    "product = SimpleProduct(name=\"Laptop\", price=999.99)\n",
    "print(product)\n",
    "print(f\"Product Name: {product.name}\")\n",
    "print(f\"Product Price: ${product.price:.2f}\")\n",
    "print(f\"Product ID: {product.id}\")"
   ]
  },
  {
   "cell_type": "markdown",
   "metadata": {},
   "source": [
    "### Key Components of a SQLModel model:\n",
    "\n",
    "1. **Class inheritance**: `class SimpleProduct(SQLModel, table=True):`\n",
    "   - Inherits from `SQLModel`\n",
    "   - `table=True` parameter tells SQLModel this class represents a database table\n",
    "\n",
    "2. **Type annotations**: `name: str`, `price: float`\n",
    "   - Python type hints define the column types\n",
    "   - Used for validation and schema generation\n",
    "\n",
    "3. **Field options**: `id: Optional[int] = Field(default=None, primary_key=True)`\n",
    "   - `Optional[int]` means the field can be `None`\n",
    "   - `primary_key=True` designates this field as the primary key\n",
    "   - `default=None` sets the default value for new instances"
   ]
  },
  {
   "cell_type": "markdown",
   "metadata": {},
   "source": [
    "## 3. Creating Our Product Model\n",
    "\n",
    "Now let's implement the actual `Product` model used in our inventory management system:"
   ]
  },
  {
   "cell_type": "code",
   "execution_count": null,
   "metadata": {},
   "outputs": [],
   "source": [
    "from typing import Optional\n",
    "from sqlmodel import Field, SQLModel\n",
    "from datetime import datetime\n",
    "\n",
    "class Product(SQLModel, table=True):\n",
    "    \"\"\"Product model representing items in inventory\"\"\"\n",
    "    id: Optional[int] = Field(default=None, primary_key=True)\n",
    "    name: str = Field(index=True)\n",
    "    description: str\n",
    "    price: float\n",
    "    stock_quantity: int\n",
    "    category: str = Field(index=True)\n",
    "    created_at: datetime = Field(default_factory=datetime.now)\n",
    "    updated_at: datetime = Field(default_factory=datetime.now)\n",
    "\n",
    "    def __repr__(self):\n",
    "        return f\"<Product(id={self.id}, name='{self.name}', price=${self.price:.2f}, stock={self.stock_quantity})>\"\n",
    "\n",
    "# Create a sample product\n",
    "laptop = Product(\n",
    "    name=\"MacBook Pro\",\n",
    "    description=\"Powerful laptop for developers\",\n",
    "    price=1999.99,\n",
    "    stock_quantity=5,\n",
    "    category=\"Electronics\"\n",
    ")\n",
    "\n",
    "print(laptop)"
   ]
  },
  {
   "cell_type": "markdown",
   "metadata": {},
   "source": [
    "## 4. Understanding Model Fields and Options\n",
    "\n",
    "Let's examine each field in our `Product` model:"
   ]
  },
  {
   "cell_type": "markdown",
   "metadata": {},
   "source": [
    "### 4.1. Primary Key Field\n",
    "\n",
    "```python\n",
    "id: Optional[int] = Field(default=None, primary_key=True)\n",
    "```\n",
    "\n",
    "- `Optional[int]`: The field type is integer, but can be `None` (before saving to database)\n",
    "- `primary_key=True`: This field is the primary key of the table\n",
    "- `default=None`: New instances have `id=None` until saved to the database\n",
    "\n",
    "### 4.2. Indexed Fields\n",
    "\n",
    "```python\n",
    "name: str = Field(index=True)\n",
    "category: str = Field(index=True)\n",
    "```\n",
    "\n",
    "- `index=True`: Creates a database index on this field\n",
    "- Indexes make searching by these fields much faster\n",
    "- We index `name` and `category` because we'll frequently search by them\n",
    "\n",
    "### 4.3. Date/Time Fields\n",
    "\n",
    "```python\n",
    "created_at: datetime = Field(default_factory=datetime.now)\n",
    "updated_at: datetime = Field(default_factory=datetime.now)\n",
    "```\n",
    "\n",
    "- `default_factory=datetime.now`: Calls the function to get the current time when creating a new instance\n",
    "- `created_at`: Stores when the product was first added\n",
    "- `updated_at`: Should be updated whenever the product is modified\n",
    "\n",
    "### 4.4. String Representation\n",
    "\n",
    "```python\n",
    "def __repr__(self):\n",
    "    return f\"<Product(id={self.id}, name='{self.name}', price=${self.price:.2f}, stock={self.stock_quantity})>\"\n",
    "```\n",
    "\n",
    "- `__repr__`: Defines how the object is represented as a string\n",
    "- Used for debugging and when printing the object\n",
    "- Shows the most important attributes of the product"
   ]
  },
  {
   "cell_type": "markdown",
   "metadata": {},
   "source": [
    "## 5. Working with Model Instances\n",
    "\n",
    "Let's explore how to work with our `Product` instances:"
   ]
  },
  {
   "cell_type": "code",
   "execution_count": null,
   "metadata": {},
   "outputs": [],
   "source": [
    "# Create a few products\n",
    "products = [\n",
    "    Product(\n",
    "        name=\"Laptop\",\n",
    "        description=\"A powerful laptop for work\",\n",
    "        price=1299.99,\n",
    "        stock_quantity=10,\n",
    "        category=\"Electronics\"\n",
    "    ),\n",
    "    Product(\n",
    "        name=\"Smartphone\",\n",
    "        description=\"Latest model with high-end camera\",\n",
    "        price=799.99,\n",
    "        stock_quantity=15,\n",
    "        category=\"Electronics\"\n",
    "    ),\n",
    "    Product(\n",
    "        name=\"Coffee Mug\",\n",
    "        description=\"Ceramic mug for hot beverages\",\n",
    "        price=12.99,\n",
    "        stock_quantity=50,\n",
    "        category=\"Kitchenware\"\n",
    "    )\n",
    "]\n",
    "\n",
    "# Access attributes\n",
    "for i, product in enumerate(products, 1):\n",
    "    print(f\"Product {i}:\")\n",
    "    print(f\"  Name: {product.name}\")\n",
    "    print(f\"  Description: {product.description}\")\n",
    "    print(f\"  Price: ${product.price:.2f}\")\n",
    "    print(f\"  Stock: {product.stock_quantity}\")\n",
    "    print(f\"  Category: {product.category}\")\n",
    "    print(f\"  Created at: {product.created_at}\")\n",
    "    print()"
   ]
  },
  {
   "cell_type": "markdown",
   "metadata": {},
   "source": [
    "### 5.1. Modifying a Product"
   ]
  },
  {
   "cell_type": "code",
   "execution_count": null,
   "metadata": {},
   "outputs": [],
   "source": [
    "# Get the first product (Laptop)\n",
    "laptop = products[0]\n",
    "\n",
    "# Show the current price\n",
    "print(f\"Current price of {laptop.name}: ${laptop.price:.2f}\")\n",
    "print(f\"Current stock of {laptop.name}: {laptop.stock_quantity}\")\n",
    "\n",
    "# Modify the product\n",
    "laptop.price = 1199.99  # Apply a discount\n",
    "laptop.stock_quantity -= 2  # Decrease stock by 2 units\n",
    "laptop.updated_at = datetime.now()  # Update the timestamp\n",
    "\n",
    "# Show the updated product\n",
    "print(\"\\nAfter modification:\")\n",
    "print(f\"New price of {laptop.name}: ${laptop.price:.2f}\")\n",
    "print(f\"New stock of {laptop.name}: {laptop.stock_quantity}\")\n",
    "print(f\"Updated at: {laptop.updated_at}\")"
   ]
  },
  {
   "cell_type": "markdown",
   "metadata": {},
   "source": [
    "### 5.2. Using Model Validation\n",
    "\n",
    "One of the benefits of SQLModel is that it validates data types:"
   ]
  },
  {
   "cell_type": "code",
   "execution_count": null,
   "metadata": {},
   "outputs": [],
   "source": [
    "# Try creating a product with invalid data\n",
    "try:\n",
    "    invalid_product = Product(\n",
    "        name=\"Invalid Product\",\n",
    "        description=\"This product has an invalid price\",\n",
    "        price=\"not a number\",  # This should be a float, not a string\n",
    "        stock_quantity=5,\n",
    "        category=\"Test\"\n",
    "    )\n",
    "except Exception as e:\n",
    "    print(f\"Error creating product: {e}\")"
   ]
  },
  {
   "cell_type": "markdown",
   "metadata": {},
   "source": [
    "### 5.3. Converting to Dictionary\n",
    "\n",
    "SQLModel models can be easily converted to dictionaries, which is useful for serialization:"
   ]
  },
  {
   "cell_type": "code",
   "execution_count": null,
   "metadata": {},
   "outputs": [],
   "source": [
    "# Convert a product to a dictionary\n",
    "coffee_mug = products[2]\n",
    "coffee_mug_dict = coffee_mug.dict()\n",
    "\n",
    "# Display the dictionary\n",
    "import json\n",
    "print(json.dumps(coffee_mug_dict, indent=2, default=str))"
   ]
  },
  {
   "cell_type": "markdown",
   "metadata": {},
   "source": [
    "## Summary\n",
    "\n",
    "In this notebook, we've learned:\n",
    "\n",
    "1. **What is an ORM** and why it's useful for database interactions\n",
    "2. **SQLModel basics** - combining SQLAlchemy and Pydantic\n",
    "3. **Creating data models** with fields, types, and constraints\n",
    "4. **Working with model instances** - creating, modifying, and validating\n",
    "\n",
    "This knowledge forms the foundation of our inventory management system. In the next notebooks, we'll explore how to connect to a database, perform CRUD operations, and build a command-line interface."
   ]
  }
 ],
 "metadata": {
  "kernelspec": {
   "display_name": "Python 3",
   "language": "python",
   "name": "python3"
  },
  "language_info": {
   "codemirror_mode": {
    "name": "ipython",
    "version": 3
   },
   "file_extension": ".py",
   "mimetype": "text/x-python",
   "name": "python",
   "nbconvert_exporter": "python",
   "pygments_lexer": "ipython3",
   "version": "3.8.10"
  }
 },
 "nbformat": 4,
 "nbformat_minor": 4
}
