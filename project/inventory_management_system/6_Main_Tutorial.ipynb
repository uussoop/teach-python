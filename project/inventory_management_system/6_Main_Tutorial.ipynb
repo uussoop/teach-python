{
  "cells": [
    {
      "cell_type": "markdown",
      "metadata": {},
      "source": [
        "# Inventory Management System - Data Models\n",
        "\n",
        "This notebook contains the data models for the inventory management system. The models include `Product` and `Sale`, where we track product inventory and sales transactions. Session 2 introduced new features like the low stock threshold and sales tracking."
      ]
    },
    {
      "cell_type": "code",
      "execution_count": 1,
      "metadata": {},
      "outputs": [],
      "source": [
        "from typing import Optional, List\n",
        "from sqlmodel import Field, SQLModel, Relationship\n",
        "from datetime import datetime\n",
        "\n",
        "class Product(SQLModel, table=True):\n",
        "    \"\"\"Product model representing items in inventory\"\"\"\n",
        "    id: Optional[int] = Field(default=None, primary_key=True)\n",
        "    name: str = Field(index=True)\n",
        "    description: str\n",
        "    price: float\n",
        "    stock_quantity: int\n",
        "    category: str = Field(index=True)\n",
        "    created_at: datetime = Field(default_factory=datetime.now)\n",
        "    updated_at: datetime = Field(default_factory=datetime.now)\n",
        "    # Session 2: Threshold for low stock alerts\n",
        "    low_stock_threshold: int = Field(default=10)\n",
        "    \n",
        "    # Session 2: Relationship with sales\n",
        "    sales: List[\"Sale\"] = Relationship(back_populates=\"product\")\n",
        "\n",
        "    def __repr__(self):\n",
        "        return f\"<Product(id={self.id}, name='{self.name}', price=${self.price:.2f}, stock={self.stock_quantity})>\"\n",
        "\n",
        "# Session 2: New model for sales tracking\n",
        "class Sale(SQLModel, table=True):\n",
        "    \"\"\"Sale model representing product sales\"\"\"\n",
        "    id: Optional[int] = Field(default=None, primary_key=True)\n",
        "    product_id: int = Field(foreign_key=\"product.id\")\n",
        "    quantity: int\n",
        "    sale_price: float\n",
        "    sale_date: datetime = Field(default_factory=datetime.now)\n",
        "    \n",
        "    # Relationship with Product\n",
        "    product: Product = Relationship(back_populates=\"sales\")\n",
        "    \n",
        "    def __repr__(self):\n",
        "        return f\"<Sale(id={self.id}, product_id={self.product_id}, quantity={self.quantity}, price=${self.sale_price:.2f})>\"\n"
      ]
    },
    {
      "cell_type": "markdown",
      "metadata": {},
      "source": [
        "## Changes Introduced in Session 2:\n",
        "\n",
        "### Product Model:\n",
        "- Added a new field `low_stock_threshold` to the `Product` model to track the threshold for low stock alerts (default value: 10).\n",
        "- Introduced a relationship between `Product` and `Sale` using the `sales` field. This will allow tracking of the sales related to each product.\n",
        "\n",
        "### Sale Model:\n",
        "- Introduced a new model `Sale` to represent product sales, with the following fields:\n",
        "  - `product_id`: Foreign key that links the sale to a specific product.\n",
        "  - `quantity`: The number of products sold in the transaction.\n",
        "  - `sale_price`: The price at which the product was sold.\n",
        "  - `sale_date`: Timestamp when the sale occurred.\n",
        "- Established a bidirectional relationship between `Product` and `Sale` models using the `sales` field in `Product` and `product` field in `Sale`."
      ]
    },
    {
      "cell_type": "markdown",
      "metadata": {},
      "source": [
        "## Diff Summary:\n",
        "\n",
        "1. **Product Model:**\n",
        "- Added `low_stock_threshold` field (default value: 10).\n",
        "- Added `sales` relationship field to link with `Sale` model.\n",
        "\n",
        "2. **Sale Model:**\n",
        "- New `Sale` model created to track individual product sales with fields for `product_id`, `quantity`, `sale_price`, and `sale_date`.\n",
        "- Established a relationship between `Sale` and `Product` through `product_id` and the `product` field in `Sale`."
      ]
    }
  ],
  "metadata": {
    "kernelspec": {
      "display_name": "Python 3",
      "language": "python",
      "name": "python3"
    },
    "language_info": {
      "name": "python",
      "version": "3.8.5"
    }
  },
  "nbformat": 4,
  "nbformat_minor": 5
}
