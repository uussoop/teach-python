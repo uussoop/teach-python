{
 "cells": [
  {
   "cell_type": "markdown",
   "metadata": {},
   "source": [
    "# Week 5: Classes - Part 1\n",
    "\n",
    "---\n",
    "\n",
    "## Table of Contents\n",
    "1. [Introduction to Classes](#introduction)\n",
    "2. [Fields and Methods](#fields-and-methods)\n",
    "3. [Inheritance](#inheritance)\n",
    "4. [Exercises](#exercises)\n",
    "5. [Homework](#homework)\n",
    "\n",
    "---"
   ]
  },
  {
   "cell_type": "markdown",
   "metadata": {},
   "source": [
    "## 1. Introduction to Classes <a name=\"introduction\"></a>\n",
    "\n",
    "A **class** is a blueprint for creating objects. It defines the properties (fields) and behaviors (methods) that the objects created from the class will have.\n",
    "\n",
    "### **Key Concepts**\n",
    "- **Object**: An instance of a class.\n",
    "- **Fields**: Variables that belong to an object or class.\n",
    "- **Methods**: Functions that belong to an object or class.\n",
    "\n",
    "### **Example: Simple Class**"
   ]
  },
  {
   "cell_type": "code",
   "execution_count": null,
   "metadata": {},
   "outputs": [],
   "source": [
    "class Dog:\n",
    "    # Fields\n",
    "    def __init__(self, name, age):\n",
    "        self.name = name\n",
    "        self.age = age\n",
    "    \n",
    "    # Method\n",
    "    def bark(self):\n",
    "        print(f\"{self.name} says woof!\")\n",
    "\n",
    "# Creating an object\n",
    "my_dog = Dog(\"Buddy\", 3)\n",
    "my_dog.bark()  # Output: Buddy says woof!"
   ]
  },
  {
   "cell_type": "markdown",
   "metadata": {},
   "source": [
    "---"
   ]
  },
  {
   "cell_type": "markdown",
   "metadata": {},
   "source": [
    "## 2. Fields and Methods <a name=\"fields-and-methods\"></a>\n",
    "\n",
    "### **2.1 Fields**\n",
    "- Fields are variables that store data about an object.\n",
    "- They are defined in the `__init__` method (constructor) or directly in the class.\n",
    "- Example:\n",
    "  ```python\n",
    "  class Person:\n",
    "      def __init__(self, name, age):\n",
    "          self.name = name  # Field\n",
    "          self.age = age    # Field\n",
    "  ```\n",
    "\n",
    "### **2.2 Methods**\n",
    "- Methods are functions that belong to a class and define the behavior of objects.\n",
    "- They always take `self` as the first parameter, which refers to the object itself.\n",
    "- Example:\n",
    "  ```python\n",
    "  class Person:\n",
    "      def __init__(self, name, age):\n",
    "          self.name = name\n",
    "          self.age = age\n",
    "      \n",
    "      def greet(self):  # Method\n",
    "          print(f\"Hello, my name is {self.name} and I am {self.age} years old.\")\n",
    "  ```\n",
    "\n",
    "### **2.3 Example: Class with Fields and Methods**"
   ]
  },
  {
   "cell_type": "code",
   "execution_count": null,
   "metadata": {},
   "outputs": [],
   "source": [
    "class Car:\n",
    "    def __init__(self, make, model, year):\n",
    "        self.make = make\n",
    "        self.model = model\n",
    "        self.year = year\n",
    "    \n",
    "    def display_info(self):\n",
    "        print(f\"{self.year} {self.make} {self.model}\")\n",
    "\n",
    "my_car = Car(\"Toyota\", \"Corolla\", 2020)\n",
    "my_car.display_info()  # Output: 2020 Toyota Corolla"
   ]
  },
  {
   "cell_type": "markdown",
   "metadata": {},
   "source": [
    "---"
   ]
  },
  {
   "cell_type": "markdown",
   "metadata": {},
   "source": [
    "## 3. Inheritance <a name=\"inheritance\"></a>\n",
    "\n",
    "Inheritance allows a class to inherit fields and methods from another class. The class that inherits is called the **child class**, and the class being inherited from is called the **parent class**.\n",
    "\n",
    "### **3.1 Basic Inheritance**\n",
    "- Use the syntax `class ChildClass(ParentClass):` to create a child class.\n",
    "- The child class inherits all fields and methods from the parent class.\n",
    "- Example:\n",
    "  ```python\n",
    "  class Animal:\n",
    "      def __init__(self, name):\n",
    "          self.name = name\n",
    "      \n",
    "      def speak(self):\n",
    "          print(f\"{self.name} makes a sound.\")\n",
    "  \n",
    "  class Dog(Animal):  # Dog inherits from Animal\n",
    "      def bark(self):\n",
    "          print(f\"{self.name} says woof!\")\n",
    "  ```\n",
    "\n",
    "### **3.2 Overriding Methods**\n",
    "- A child class can override a method from the parent class by redefining it.\n",
    "- Example:\n",
    "  ```python\n",
    "  class Cat(Animal):\n",
    "      def speak(self):  # Override the `speak` method\n",
    "          print(f\"{self.name} says meow!\")\n",
    "  ```\n",
    "\n",
    "### **3.3 Example: Inheritance**"
   ]
  },
  {
   "cell_type": "code",
   "execution_count": null,
   "metadata": {},
   "outputs": [],
   "source": [
    "class Animal:\n",
    "    def __init__(self, name):\n",
    "        self.name = name\n",
    "    \n",
    "    def speak(self):\n",
    "        print(f\"{self.name} makes a sound.\")\n",
    "\n",
    "class Dog(Animal):\n",
    "    def bark(self):\n",
    "        print(f\"{self.name} says woof!\")\n",
    "\n",
    "class Cat(Animal):\n",
    "    def speak(self):  # Override the `speak` method\n",
    "        print(f\"{self.name} says meow!\")\n",
    "\n",
    "my_dog = Dog(\"Buddy\")\n",
    "my_dog.speak()  # Output: Buddy makes a sound.\n",
    "my_dog.bark()   # Output: Buddy says woof!\n",
    "\n",
    "my_cat = Cat(\"Whiskers\")\n",
    "my_cat.speak()  # Output: Whiskers says meow!"
   ]
  },
  {
   "cell_type": "markdown",
   "metadata": {},
   "source": [
    "---"
   ]
  },
  {
   "cell_type": "markdown",
   "metadata": {},
   "source": [
    "## 4. Exercises <a name=\"exercises\"></a>\n",
    "\n",
    "1. **Fields and Methods**: Create a class `Rectangle` with fields `width` and `height` and a method `area` that calculates the area.\n",
    "2. **Inheritance**: Create a class `Vehicle` with fields `make` and `model`. Then create a child class `Car` that adds a field `year` and a method `display_info`.\n",
    "3. **Method Overriding**: Create a class `Bird` that inherits from `Animal` and overrides the `speak` method to print `\"Chirp!\"`.\n",
    "\n",
    "---"
   ]
  },
  {
   "cell_type": "markdown",
   "metadata": {},
   "source": [
    "## 5. Homework <a name=\"homework\"></a>\n",
    "\n",
    "1. Create a class `BankAccount` with fields `account_number` and `balance`. Add methods `deposit` and `withdraw` to modify the balance.\n",
    "2. Create a class `SavingsAccount` that inherits from `BankAccount` and adds a field `interest_rate` and a method `add_interest`.\n",
    "3. Write a program that creates objects of `BankAccount` and `SavingsAccount` and demonstrates their functionality.\n",
    "\n",
    "---"
   ]
  },
  {
   "cell_type": "markdown",
   "metadata": {},
   "source": [
    "## End of Week 5"
   ]
  }
 ],
 "metadata": {
  "kernelspec": {
   "display_name": "Python 3",
   "language": "python",
   "name": "python3"
  },
  "language_info": {
   "codemirror_mode": {
    "name": "ipython",
    "version": 3
   },
   "file_extension": ".py",
   "mimetype": "text/x-python",
   "name": "python",
   "nbconvert_exporter": "python",
   "pygments_lexer": "ipython3",
   "version": "3.10.0"
  }
 },
 "nbformat": 4,
 "nbformat_minor": 4
}
