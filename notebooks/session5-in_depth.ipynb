{
 "cells": [
  {
   "cell_type": "markdown",
   "metadata": {},
   "source": [
    "# Week 5: Classes - Part 2 (In-Depth)\n",
    "\n",
    "---\n",
    "\n",
    "## Table of Contents\n",
    "1. [Method Overriding](#method-overriding)\n",
    "2. [Abstraction and Abstract Base Classes (ABC)](#abstraction)\n",
    "3. [Metaclasses](#metaclasses)\n",
    "4. [Design Patterns](#design-patterns)\n",
    "   - Singleton Pattern\n",
    "   - Factory Pattern\n",
    "   - Observer Pattern\n",
    "   - Decorator Pattern\n",
    "   - Strategy Pattern\n",
    "5. [Exercises](#exercises)\n",
    "6. [Homework](#homework)\n",
    "\n",
    "---"
   ]
  },
  {
   "cell_type": "markdown",
   "metadata": {},
   "source": [
    "## 1. Method Overriding <a name=\"method-overriding\"></a>\n",
    "\n",
    "Method overriding allows a child class to provide a specific implementation of a method that is already defined in its parent class.\n",
    "\n",
    "### **1.1 How Method Overriding Works**\n",
    "- When a method in the child class has the same name as a method in the parent class, the child class method **overrides** the parent class method.\n",
    "- The overridden method in the parent class is not called unless explicitly invoked using `super()`.\n",
    "\n",
    "### **1.2 Example: Method Overriding**"
   ]
  },
  {
   "cell_type": "code",
   "execution_count": null,
   "metadata": {},
   "outputs": [],
   "source": [
    "class Animal:\n",
    "    def speak(self):\n",
    "        print(\"Animal speaks.\")\n",
    "\n",
    "class Dog(Animal):\n",
    "    def speak(self):  # Override the `speak` method\n",
    "        print(\"Dog barks.\")\n",
    "\n",
    "class Cat(Animal):\n",
    "    def speak(self):  # Override the `speak` method\n",
    "        print(\"Cat meows.\")\n",
    "\n",
    "my_dog = Dog()\n",
    "my_dog.speak()  # Output: Dog barks.\n",
    "\n",
    "my_cat = Cat()\n",
    "my_cat.speak()  # Output: Cat meows."
   ]
  },
  {
   "cell_type": "markdown",
   "metadata": {},
   "source": [
    "### **1.3 Using `super()`**\n",
    "- The `super()` function allows you to call the overridden method from the parent class.\n",
    "- Example:\n",
    "  ```python\n",
    "  class Dog(Animal):\n",
    "      def speak(self):\n",
    "          super().speak()  # Call the parent class method\n",
    "          print(\"Dog barks.\")\n",
    "  ```\n",
    "\n",
    "### **1.4 Example: Using `super()`**"
   ]
  },
  {
   "cell_type": "code",
   "execution_count": null,
   "metadata": {},
   "outputs": [],
   "source": [
    "class Dog(Animal):\n",
    "    def speak(self):\n",
    "        super().speak()  # Call the parent class method\n",
    "        print(\"Dog barks.\")\n",
    "\n",
    "my_dog = Dog()\n",
    "my_dog.speak()  # Output: Animal speaks.\\nDog barks."
   ]
  },
  {
   "cell_type": "markdown",
   "metadata": {},
   "source": [
    "---"
   ]
  },
  {
   "cell_type": "markdown",
   "metadata": {},
   "source": [
    "## 2. Abstraction and Abstract Base Classes (ABC) <a name=\"abstraction\"></a>\n",
    "\n",
    "### **2.1 What is Abstraction?**\n",
    "- Abstraction is the process of hiding the implementation details and showing only the functionality.\n",
    "- In Python, abstraction is achieved using **Abstract Base Classes (ABC)**.\n",
    "\n",
    "### **2.2 Abstract Base Classes (ABC)**\n",
    "- An abstract class cannot be instantiated directly. It serves as a blueprint for other classes.\n",
    "- Use the `abc` module to define abstract classes and methods.\n",
    "- Example:\n",
    "  ```python\n",
    "  from abc import ABC, abstractmethod\n",
    "\n",
    "  class Shape(ABC):\n",
    "      @abstractmethod\n",
    "      def area(self):\n",
    "          pass\n",
    "  ```\n",
    "\n",
    "### **2.3 Example: Abstract Base Class**"
   ]
  },
  {
   "cell_type": "code",
   "execution_count": null,
   "metadata": {},
   "outputs": [],
   "source": [
    "from abc import ABC, abstractmethod\n",
    "\n",
    "class Shape(ABC):\n",
    "    @abstractmethod\n",
    "    def area(self):\n",
    "        pass\n",
    "\n",
    "class Circle(Shape):\n",
    "    def __init__(self, radius):\n",
    "        self.radius = radius\n",
    "    \n",
    "    def area(self):\n",
    "        return 3.14 * self.radius ** 2\n",
    "\n",
    "class Rectangle(Shape):\n",
    "    def __init__(self, width, height):\n",
    "        self.width = width\n",
    "        self.height = height\n",
    "    \n",
    "    def area(self):\n",
    "        return self.width * self.height\n",
    "\n",
    "circle = Circle(5)\n",
    "print(f\"Area of circle: {circle.area()}\")  # Output: Area of circle: 78.5\n",
    "\n",
    "rectangle = Rectangle(4, 6)\n",
    "print(f\"Area of rectangle: {rectangle.area()}\")  # Output: Area of rectangle: 24"
   ]
  },
  {
   "cell_type": "markdown",
   "metadata": {},
   "source": [
    "---"
   ]
  },
  {
   "cell_type": "markdown",
   "metadata": {},
   "source": [
    "## 3. Metaclasses <a name=\"metaclasses\"></a>\n",
    "\n",
    "### **3.1 What are Metaclasses?**\n",
    "- A metaclass is the class of a class. It defines how a class behaves.\n",
    "- The default metaclass in Python is `type`.\n",
    "- You can create custom metaclasses by subclassing `type`.\n",
    "\n",
    "### **3.2 Example: Custom Metaclass**"
   ]
  },
  {
   "cell_type": "code",
   "execution_count": null,
   "metadata": {},
   "outputs": [],
   "source": [
    "class Meta(type):\n",
    "    def __new__(cls, name, bases, dct):\n",
    "        print(f\"Creating class {name}\")\n",
    "        return super().__new__(cls, name, bases, dct)\n",
    "\n",
    "class MyClass(metaclass=Meta):\n",
    "    pass\n",
    "\n",
    "# Output: Creating class MyClass"
   ]
  },
  {
   "cell_type": "markdown",
   "metadata": {},
   "source": [
    "---"
   ]
  },
  {
   "cell_type": "markdown",
   "metadata": {},
   "source": [
    "## 4. Design Patterns <a name=\"design-patterns\"></a>\n",
    "\n",
    "### **4.1 Singleton Pattern**\n",
    "- Ensures that a class has only one instance and provides a global point of access to it.\n",
    "- Example:\n",
    "  ```python\n",
    "  class Singleton:\n",
    "      _instance = None\n",
    "      \n",
    "      def __new__(cls):\n",
    "          if cls._instance is None:\n",
    "              cls._instance = super().__new__(cls)\n",
    "          return cls._instance\n",
    "  ```\n",
    "\n",
    "### **4.2 Factory Pattern**\n",
    "- Provides an interface for creating objects in a superclass but allows subclasses to alter the type of objects created.\n",
    "- Example:\n",
    "  ```python\n",
    "  class AnimalFactory:\n",
    "      def create_animal(self, animal_type):\n",
    "          if animal_type == \"dog\":\n",
    "              return Dog()\n",
    "          elif animal_type == \"cat\":\n",
    "              return Cat()\n",
    "          else:\n",
    "              raise ValueError(\"Invalid animal type.\")\n",
    "  ```\n",
    "\n",
    "### **4.3 Observer Pattern**\n",
    "- Defines a one-to-many dependency between objects so that when one object changes state, all its dependents are notified.\n",
    "- Example:\n",
    "  ```python\n",
    "  class Subject:\n",
    "      def __init__(self):\n",
    "          self._observers = []\n",
    "      \n",
    "      def attach(self, observer):\n",
    "          self._observers.append(observer)\n",
    "      \n",
    "      def notify(self):\n",
    "          for observer in self._observers:\n",
    "              observer.update(self)\n",
    "  ```\n",
    "\n",
    "### **4.4 Decorator Pattern**\n",
    "- Allows behavior to be added to individual objects, either statically or dynamically, without affecting the behavior of other objects from the same class.\n",
    "- Example:\n",
    "  ```python\n",
    "  class Component:\n",
    "      def operation(self):\n",
    "          pass\n",
    "\n",
    "  class ConcreteComponent(Component):\n",
    "      def operation(self):\n",
    "          return \"ConcreteComponent\"\n",
    "\n",
    "  class Decorator(Component):\n",
    "      def __init__(self, component):\n",
    "          self._component = component\n",
    "      \n",
    "      def operation(self):\n",
    "          return f\"Decorator({self._component.operation()})\"\n",
    "  ```\n",
    "\n",
    "### **4.5 Strategy Pattern**\n",
    "- Defines a family of algorithms, encapsulates each one, and makes them interchangeable.\n",
    "- Example:\n",
    "  ```python\n",
    "  class Strategy:\n",
    "      def execute(self, data):\n",
    "          pass\n",
    "\n",
    "  class ConcreteStrategyA(Strategy):\n",
    "      def execute(self, data):\n",
    "          return sorted(data)\n",
    "\n",
    "  class ConcreteStrategyB(Strategy):\n",
    "      def execute(self, data):\n",
    "          return sorted(data, reverse=True)\n",
    "  ```\n",
    "\n",
    "---"
   ]
  },
  {
   "cell_type": "markdown",
   "metadata": {},
   "source": [
    "## 5. Exercises <a name=\"exercises\"></a>\n",
    "\n",
    "1. **Abstraction**: Create an abstract class `Vehicle` with abstract methods `start` and `stop`. Implement this class in `Car` and `Bike`.\n",
    "2. **Metaclasses**: Create a metaclass that logs the creation of every new class.\n",
    "3. **Observer Pattern**: Implement a simple observer pattern where a `NewsAgency` notifies `Subscribers` when a new article is published.\n",
    "\n",
    "---"
   ]
  },
  {
   "cell_type": "markdown",
   "metadata": {},
   "source": [
    "## 6. Homework <a name=\"homework\"></a>\n",
    "\n",
    "1. **Decorator Pattern**: Implement a decorator pattern to add logging functionality to a `Calculator` class.\n",
    "2. **Strategy Pattern**: Create a `SortingContext` class that uses the Strategy pattern to sort a list in ascending or descending order.\n",
    "3. **Singleton Pattern**: Implement a `DatabaseConnection` class using the Singleton pattern to ensure only one connection exists.\n",
    "\n",
    "---"
   ]
  },
  {
   "cell_type": "markdown",
   "metadata": {},
   "source": [
    "## End of Week 5"
   ]
  }
 ],
 "metadata": {
  "kernelspec": {
   "display_name": "Python 3",
   "language": "python",
   "name": "python3"
  },
  "language_info": {
   "codemirror_mode": {
    "name": "ipython",
    "version": 3
   },
   "file_extension": ".py",
   "mimetype": "text/x-python",
   "name": "python",
   "nbconvert_exporter": "python",
   "pygments_lexer": "ipython3",
   "version": "3.10.0"
  }
 },
 "nbformat": 4,
 "nbformat_minor": 4
}
