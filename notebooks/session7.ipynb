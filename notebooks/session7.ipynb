{
 "cells": [
  {
   "cell_type": "markdown",
   "metadata": {},
   "source": [
    "# Week 7: Using Libraries - Part 1\n",
    "\n",
    "---\n",
    "\n",
    "## Table of Contents\n",
    "1. [Introduction to Python Libraries](#introduction)\n",
    "2. [GUI with tkinter](#tkinter)\n",
    "   - Basic Widgets\n",
    "   - Event Handling\n",
    "   - Layout Management\n",
    "3. [Testing with unittest](#unittest)\n",
    "   - Writing Test Cases\n",
    "   - Test Fixtures\n",
    "   - Assertion Methods\n",
    "4. [Exercises](#exercises)\n",
    "5. [Homework](#homework)\n",
    "\n",
    "---"
   ]
  },
  {
   "cell_type": "markdown",
   "metadata": {},
   "source": [
    "## 1. Introduction to Python Libraries <a name=\"introduction\"></a>\n",
    "\n",
    "Python's strength lies in its rich ecosystem of libraries. Today we'll explore:\n",
    "- `tkinter`: Python's standard GUI toolkit\n",
    "- `unittest`: Python's built-in testing framework\n",
    "\n",
    "Why use libraries?\n",
    "- Avoid reinventing the wheel\n",
    "- Leverage community-tested solutions\n",
    "- Focus on your application logic\n",
    "\n",
    "---"
   ]
  },
  {
   "cell_type": "markdown",
   "metadata": {},
   "source": [
    "## 2. GUI with tkinter <a name=\"tkinter\"></a>\n",
    "\n",
    "### **2.1 Basic Concepts**\n",
    "- `tkinter` is Python's standard GUI package\n",
    "- Based on Tk GUI toolkit\n",
    "- Cross-platform (Windows, macOS, Linux)\n",
    "\n",
    "### **2.2 Core Components**\n",
    "1. **Main Window** - The root container\n",
    "2. **Widgets** - UI elements (buttons, labels, etc.)\n",
    "3. **Event Loop** - Handles user interactions\n",
    "\n",
    "### **2.3 Basic Example**"
   ]
  },
  {
   "cell_type": "code",
   "execution_count": null,
   "metadata": {},
   "outputs": [],
   "source": [
    "import tkinter as tk\n",
    "from tkinter import messagebox\n",
    "\n",
    "# Create main window\n",
    "root = tk.Tk()\n",
    "root.title(\"My First GUI\")\n",
    "root.geometry(\"300x200\")\n",
    "\n",
    "# Add a label\n",
    "label = tk.Label(root, text=\"Hello, tkinter!\")\n",
    "label.pack(pady=20)\n",
    "\n",
    "# Add a button\n",
    "def button_click():\n",
    "    messagebox.showinfo(\"Message\", \"Button clicked!\")\n",
    "\n",
    "button = tk.Button(root, text=\"Click Me\", command=button_click)\n",
    "button.pack()\n",
    "\n",
    "# Start the event loop\n",
    "root.mainloop()"
   ]
  },
  {
   "cell_type": "markdown",
   "metadata": {},
   "source": [
    "### **2.4 Common Widgets**\n",
    "\n",
    "| Widget      | Description | Example |\n",
    "|-------------|-------------|---------|\n",
    "| `Label`     | Displays text | `Label(root, text=\"Hello\")` |\n",
    "| `Button`    | Clickable button | `Button(root, text=\"OK\", command=func)` |\n",
    "| `Entry`     | Single-line text input | `Entry(root)` |\n",
    "| `Text`      | Multi-line text | `Text(root, height=5)` |\n",
    "| `Checkbutton` | Checkbox | `Checkbutton(root, text=\"Option\")` |\n",
    "| `Radiobutton` | Radio button | `Radiobutton(root, text=\"Choice\", value=1)` |\n",
    "\n",
    "### **2.5 Layout Management**\n",
    "- `pack()` - Simple vertical/horizontal stacking\n",
    "- `grid()` - Row/column layout (like a table)\n",
    "- `place()` - Absolute positioning (pixel-specific)\n",
    "\n",
    "### **2.6 Event Handling**\n",
    "- Bind functions to events like clicks or key presses\n",
    "- Example:"
   ]
  },
  {
   "cell_type": "code",
   "execution_count": null,
   "metadata": {},
   "outputs": [],
   "source": [
    "def on_key(event):\n",
    "    print(f\"You pressed {event.char}\")\n",
    "\n",
    "root = tk.Tk()\n",
    "root.bind(\"<Key>\", on_key)\n",
    "root.mainloop()"
   ]
  },
  {
   "cell_type": "markdown",
   "metadata": {},
   "source": [
    "---"
   ]
  },
  {
   "cell_type": "markdown",
   "metadata": {},
   "source": [
    "## 3. Testing with unittest <a name=\"unittest\"></a>\n",
    "\n",
    "### **3.1 Why Testing?**\n",
    "- Catch bugs early\n",
    "- Ensure code reliability\n",
    "- Support refactoring\n",
    "- Document expected behavior\n",
    "\n",
    "### **3.2 Basic Test Case**"
   ]
  },
  {
   "cell_type": "code",
   "execution_count": null,
   "metadata": {},
   "outputs": [],
   "source": [
    "import unittest\n",
    "\n",
    "def add(a, b):\n",
    "    return a + b\n",
    "\n",
    "class TestAddFunction(unittest.TestCase):\n",
    "    def test_add_integers(self):\n",
    "        self.assertEqual(add(2, 3), 5)\n",
    "    \n",
    "    def test_add_floats(self):\n",
    "        self.assertAlmostEqual(add(0.1, 0.2), 0.3, places=1)\n",
    "    \n",
    "    def test_add_strings(self):\n",
    "        self.assertEqual(add(\"hello\", \" world\"), \"hello world\")\n",
    "\n",
    "# Run the tests\n",
    "if __name__ == \"__main__\":\n",
    "    unittest.main(argv=['first-arg-is-ignored'], exit=False)"
   ]
  },
  {
   "cell_type": "markdown",
   "metadata": {},
   "source": [
    "### **3.3 Key Components**\n",
    "\n",
    "1. **Test Fixtures**\n",
    "   - `setUp()` - Runs before each test\n",
    "   - `tearDown()` - Runs after each test\n",
    "\n",
    "2. **Assertion Methods**\n",
    "   - `assertEqual(a, b)`\n",
    "   - `assertTrue(x)`\n",
    "   - `assertRaises(Error)`\n",
    "   - `assertIn(a, b)`\n",
    "\n",
    "3. **Test Discovery**\n",
    "   - Files named `test_*.py`\n",
    "   - Methods named `test_*`\n",
    "\n",
    "### **3.4 Example with Fixtures**"
   ]
  },
  {
   "cell_type": "code",
   "execution_count": null,
   "metadata": {},
   "outputs": [],
   "source": [
    "class TestWithFixtures(unittest.TestCase):\n",
    "    def setUp(self):\n",
    "        self.list = [1, 2, 3]\n",
    "    \n",
    "    def test_length(self):\n",
    "        self.assertEqual(len(self.list), 3)\n",
    "    \n",
    "    def test_append(self):\n",
    "        self.list.append(4)\n",
    "        self.assertIn(4, self.list)\n",
    "    \n",
    "    def tearDown(self):\n",
    "        del self.list\n",
    "\n",
    "if __name__ == \"__main__\":\n",
    "    unittest.main(argv=['first-arg-is-ignored'], exit=False)"
   ]
  },
  {
   "cell_type": "markdown",
   "metadata": {},
   "source": [
    "---"
   ]
  },
  {
   "cell_type": "markdown",
   "metadata": {},
   "source": [
    "## 4. Exercises <a name=\"exercises\"></a>\n",
    "\n",
    "### **Exercise 1: tkinter**\n",
    "Create a temperature converter GUI that:\n",
    "1. Has an Entry widget for temperature input\n",
    "2. Radio buttons to select °C to °F or °F to °C\n",
    "3. A button to perform the conversion\n",
    "4. A Label to display the result\n",
    "\n",
    "### **Exercise 2: unittest**\n",
    "Write tests for a function that calculates the area of:\n",
    "1. A circle (πr²)\n",
    "2. A rectangle (length × width)\n",
    "3. A triangle (½ × base × height)\n",
    "\n",
    "---"
   ]
  },
  {
   "cell_type": "markdown",
   "metadata": {},
   "source": [
    "## 5. Homework <a name=\"homework\"></a>\n",
    "\n",
    "1. **tkinter**: Build a simple text editor with:\n",
    "   - A Text widget for input\n",
    "   - Buttons for Save and Open functionality\n",
    "   - A status bar showing line/column count\n",
    "\n",
    "2. **unittest**: Create test cases for a simple calculator class that handles:\n",
    "   - Addition, subtraction, multiplication, division\n",
    "   - Error cases (division by zero)\n",
    "   - Edge cases (large numbers)\n",
    "\n",
    "---"
   ]
  },
  {
   "cell_type": "markdown",
   "metadata": {},
   "source": [
    "## End of Week 7"
   ]
  }
 ],
 "metadata": {
  "kernelspec": {
   "display_name": "Python 3",
   "language": "python",
   "name": "python3"
  },
  "language_info": {
   "codemirror_mode": {
    "name": "ipython",
    "version": 3
   },
   "file_extension": ".py",
   "mimetype": "text/x-python",
   "name": "python",
   "nbconvert_exporter": "python",
   "pygments_lexer": "ipython3",
   "version": "3.10.0"
  }
 },
 "nbformat": 4,
 "nbformat_minor": 4
}
