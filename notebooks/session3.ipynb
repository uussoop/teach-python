{
 "cells": [
  {
   "cell_type": "markdown",
   "metadata": {},
   "source": [
    "# Week 3: Basic Python - Part 2\n",
    "\n",
    "---\n",
    "\n",
    "## Table of Contents\n",
    "1. [Functions](#functions)\n",
    "   - Defining Functions\n",
    "   - Calling Functions\n",
    "   - Parameters and Arguments\n",
    "   - Return Values\n",
    "2. [Conditional Statements](#conditionals)\n",
    "   - `if` Statements\n",
    "   - `elif` and `else`\n",
    "3. [Loops](#loops)\n",
    "   - `for` Loops\n",
    "   - `while` Loops\n",
    "4. [Exercises](#exercises)\n",
    "5. [Homework](#homework)\n",
    "\n",
    "---"
   ]
  },
  {
   "cell_type": "markdown",
   "metadata": {},
   "source": [
    "## 1. Functions <a name=\"functions\"></a>\n",
    "\n",
    "Functions are reusable blocks of code that perform a specific task. They help in organizing code and avoiding repetition.\n",
    "\n",
    "### **1.1 Defining Functions**\n",
    "- Use the `def` keyword to define a function.\n",
    "- Syntax:\n",
    "  ```python\n",
    "  def function_name(parameters):\n",
    "      # Function body\n",
    "  ```\n",
    "\n",
    "### **1.2 Calling Functions**\n",
    "- To execute a function, call it by its name followed by parentheses.\n",
    "- Example:\n",
    "  ```python\n",
    "  def greet():\n",
    "      print(\"Hello, World!\")\n",
    "  \n",
    "  greet()  # Calling the function\n",
    "  ```\n",
    "\n",
    "### **1.3 Parameters and Arguments**\n",
    "- **Parameters**: Variables listed in the function definition.\n",
    "- **Arguments**: Values passed to the function when calling it.\n",
    "- Example:\n",
    "  ```python\n",
    "  def greet(name):  # `name` is a parameter\n",
    "      print(f\"Hello, {name}!\")\n",
    "  \n",
    "  greet(\"Alice\")  # `\"Alice\"` is an argument\n",
    "  ```\n",
    "\n",
    "### **1.4 Return Values**\n",
    "- Use the `return` statement to send a value back to the caller.\n",
    "- Example:\n",
    "  ```python\n",
    "  def add(a, b):\n",
    "      return a + b\n",
    "  \n",
    "  result = add(3, 5)\n",
    "  print(result)  # Output: 8\n",
    "  ```\n",
    "\n",
    "### **1.5 Example: Function with Return Value**"
   ]
  },
  {
   "cell_type": "code",
   "execution_count": null,
   "metadata": {},
   "outputs": [],
   "source": [
    "def square(number):\n",
    "    return number ** 2\n",
    "\n",
    "result = square(4)\n",
    "print(f\"Square of 4 is {result}\")"
   ]
  },
  {
   "cell_type": "markdown",
   "metadata": {},
   "source": [
    "---"
   ]
  },
  {
   "cell_type": "markdown",
   "metadata": {},
   "source": [
    "## 2. Conditional Statements <a name=\"conditionals\"></a>\n",
    "\n",
    "Conditional statements allow you to execute code based on certain conditions.\n",
    "\n",
    "### **2.1 `if` Statements**\n",
    "- Executes a block of code if a condition is `True`.\n",
    "- Syntax:\n",
    "  ```python\n",
    "  if condition:\n",
    "      # Code to execute\n",
    "  ```\n",
    "\n",
    "### **2.2 `elif` and `else`**\n",
    "- `elif` (else if) checks additional conditions if the previous ones are `False`.\n",
    "- `else` executes a block of code if all conditions are `False`.\n",
    "- Example:\n",
    "  ```python\n",
    "  age = 18\n",
    "  if age < 13:\n",
    "      print(\"Child\")\n",
    "  elif age < 20:\n",
    "      print(\"Teenager\")\n",
    "  else:\n",
    "      print(\"Adult\")\n",
    "  ```\n",
    "\n",
    "### **2.3 Example: Nested Conditionals**"
   ]
  },
  {
   "cell_type": "code",
   "execution_count": null,
   "metadata": {},
   "outputs": [],
   "source": [
    "num = 10\n",
    "if num > 0:\n",
    "    if num % 2 == 0:\n",
    "        print(\"Positive and Even\")\n",
    "    else:\n",
    "        print(\"Positive and Odd\")\n",
    "else:\n",
    "    print(\"Non-Positive\")"
   ]
  },
  {
   "cell_type": "markdown",
   "metadata": {},
   "source": [
    "---"
   ]
  },
  {
   "cell_type": "markdown",
   "metadata": {},
   "source": [
    "## 3. Loops <a name=\"loops\"></a>\n",
    "\n",
    "Loops allow you to repeat a block of code multiple times.\n",
    "\n",
    "### **3.1 `for` Loops**\n",
    "- Iterates over a sequence (e.g., list, string, range).\n",
    "- Syntax:\n",
    "  ```python\n",
    "  for item in sequence:\n",
    "      # Code to execute\n",
    "  ```\n",
    "- Example:\n",
    "  ```python\n",
    "  for i in range(5):\n",
    "      print(i)\n",
    "  ```\n",
    "\n",
    "### **3.2 `while` Loops**\n",
    "- Repeats a block of code as long as a condition is `True`.\n",
    "- Syntax:\n",
    "  ```python\n",
    "  while condition:\n",
    "      # Code to execute\n",
    "  ```\n",
    "- Example:\n",
    "  ```python\n",
    "  count = 0\n",
    "  while count < 5:\n",
    "      print(count)\n",
    "      count += 1\n",
    "  ```\n",
    "\n",
    "### **3.3 Example: Looping Through a List**"
   ]
  },
  {
   "cell_type": "code",
   "execution_count": null,
   "metadata": {},
   "outputs": [],
   "source": [
    "fruits = [\"apple\", \"banana\", \"cherry\"]\n",
    "for fruit in fruits:\n",
    "    print(fruit)"
   ]
  },
  {
   "cell_type": "markdown",
   "metadata": {},
   "source": [
    "---"
   ]
  },
  {
   "cell_type": "markdown",
   "metadata": {},
   "source": [
    "## 4. Exercises <a name=\"exercises\"></a>\n",
    "\n",
    "1. **Functions**: Write a function `is_even` that takes a number and returns `True` if it’s even, otherwise `False`.\n",
    "2. **Conditionals**: Write a program that checks if a number is positive, negative, or zero.\n",
    "3. **Loops**: Use a `for` loop to print the first 10 Fibonacci numbers.\n",
    "\n",
    "---"
   ]
  },
  {
   "cell_type": "markdown",
   "metadata": {},
   "source": [
    "## 5. Homework <a name=\"homework\"></a>\n",
    "\n",
    "1. Write a function `factorial` that calculates the factorial of a number.\n",
    "2. Write a program that uses a `while` loop to find the sum of all numbers from 1 to 100.\n",
    "3. Write a program that uses nested loops to print a multiplication table (1 to 10).\n",
    "\n",
    "---"
   ]
  },
  {
   "cell_type": "markdown",
   "metadata": {},
   "source": [
    "## End of Week 3"
   ]
  }
 ],
 "metadata": {
  "kernelspec": {
   "display_name": "Python 3",
   "language": "python",
   "name": "python3"
  },
  "language_info": {
   "codemirror_mode": {
    "name": "ipython",
    "version": 3
   },
   "file_extension": ".py",
   "mimetype": "text/x-python",
   "name": "python",
   "nbconvert_exporter": "python",
   "pygments_lexer": "ipython3",
   "version": "3.10.0"
  }
 },
 "nbformat": 4,
 "nbformat_minor": 4
}
