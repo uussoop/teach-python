{
 "cells": [
  {
   "cell_type": "markdown",
   "metadata": {},
   "source": [
    "# Functions, Conditional Statements, and Loops\n",
    "\n",
    "This notebook provides an in-depth exploration of **Functions**, **Conditional Statements**, and **Loops** in Python, with advanced usage examples."
   ]
  },
  {
   "cell_type": "markdown",
   "metadata": {},
   "source": [
    "## 1. Functions\n",
    "\n",
    "Functions are reusable blocks of code that perform a specific task. They are defined using the `def` keyword and can accept parameters and return values.\n",
    "\n",
    "### Advanced Concepts:\n",
    "- **Lambda Functions**: Anonymous functions defined using the `lambda` keyword.\n",
    "- **Decorators**: Functions that modify the behavior of other functions.\n",
    "- **Recursion**: Functions that call themselves.\n",
    "- **Generators**: Functions that yield values lazily using the `yield` keyword.\n",
    "- **Closures**: Functions that capture and remember the environment in which they were created."
   ]
  },
  {
   "cell_type": "code",
   "execution_count": null,
   "metadata": {},
   "outputs": [],
   "source": [
    "# Example 1: Lambda Function\n",
    "square = lambda x: x ** 2\n",
    "print(square(5))  # Output: 25\n",
    "\n",
    "# Example 2: Decorator\n",
    "def decorator(func):\n",
    "    def wrapper(*args, **kwargs):\n",
    "        print(\"Before function execution\")\n",
    "        result = func(*args, **kwargs)\n",
    "        print(\"After function execution\")\n",
    "        return result\n",
    "    return wrapper\n",
    "\n",
    "@decorator\n",
    "def greet(name):\n",
    "    print(f\"Hello, {name}!\")\n",
    "\n",
    "greet(\"Alice\")\n",
    "\n",
    "# Example 3: Recursion\n",
    "def factorial(n):\n",
    "    return 1 if n == 0 else n * factorial(n - 1)\n",
    "\n",
    "print(factorial(5))  # Output: 120\n",
    "\n",
    "# Example 4: Generator\n",
    "def fibonacci_sequence(limit):\n",
    "    a, b = 0, 1\n",
    "    while a < limit:\n",
    "        yield a\n",
    "        a, b = b, a + b\n",
    "\n",
    "for num in fibonacci_sequence(20):\n",
    "    print(num, end=\" \")  # Output: 0 1 1 2 3 5 8 13\n",
    "\n",
    "# Example 5: Closure\n",
    "def outer_function(x):\n",
    "    def inner_function(y):\n",
    "        return x + y\n",
    "    return inner_function\n",
    "\n",
    "closure = outer_function(10)\n",
    "print(closure(5))  # Output: 15"
   ]
  },
  {
   "cell_type": "markdown",
   "metadata": {},
   "source": [
    "## 2. Conditional Statements\n",
    "\n",
    "Conditional statements allow you to execute code based on certain conditions. The primary constructs are `if`, `elif`, and `else`.\n",
    "\n",
    "### Advanced Concepts:\n",
    "- **Ternary Operator**: A concise way to write conditional expressions.\n",
    "- **Chained Comparisons**: Combining multiple conditions in a single statement.\n",
    "- **Pattern Matching (Python 3.10+)**: Using `match` and `case` for structural pattern matching."
   ]
  },
  {
   "cell_type": "code",
   "execution_count": null,
   "metadata": {},
   "outputs": [],
   "source": [
    "# Example 1: Ternary Operator\n",
    "x = 10\n",
    "result = \"Even\" if x % 2 == 0 else \"Odd\"\n",
    "print(result)  # Output: Even\n",
    "\n",
    "# Example 2: Chained Comparisons\n",
    "y = 15\n",
    "if 10 < y < 20:\n",
    "    print(\"y is between 10 and 20\")  # Output: y is between 10 and 20\n",
    "\n",
    "# Example 3: Pattern Matching (Python 3.10+)\n",
    "def describe_number(num):\n",
    "    match num:\n",
    "        case 0:\n",
    "            return \"Zero\"\n",
    "        case 1 | 2 | 3:\n",
    "            return \"Small number\"\n",
    "        case _ if num % 2 == 0:\n",
    "            return \"Even number\"\n",
    "        case _:\n",
    "            return \"Odd number\"\n",
    "\n",
    "print(describe_number(4))  # Output: Even number"
   ]
  },
  {
   "cell_type": "markdown",
   "metadata": {},
   "source": [
    "## 3. Loops\n",
    "\n",
    "Loops allow you to execute a block of code repeatedly. Python supports `for` and `while` loops.\n",
    "\n",
    "### Advanced Concepts:\n",
    "- **List Comprehensions**: Concise way to create lists.\n",
    "- **Nested Loops**: Loops inside other loops.\n",
    "- **Loop Control Statements**: `break`, `continue`, and `pass`.\n",
    "- **Itertools Module**: Advanced looping techniques using the `itertools` module."
   ]
  },
  {
   "cell_type": "code",
   "execution_count": null,
   "metadata": {},
   "outputs": [],
   "source": [
    "# Example 1: List Comprehension\n",
    "squares = [x ** 2 for x in range(10)]\n",
    "print(squares)  # Output: [0, 1, 4, 9, 16, 25, 36, 49, 64, 81]\n",
    "\n",
    "# Example 2: Nested Loops\n",
    "for i in range(3):\n",
    "    for j in range(3):\n",
    "        print(f\"({i}, {j})\", end=\" \")\n",
    "    print()\n",
    "\n",
    "# Example 3: Loop Control Statements\n",
    "for num in range(10):\n",
    "    if num == 5:\n",
    "        break  # Exit the loop\n",
    "    if num % 2 == 0:\n",
    "        continue  # Skip even numbers\n",
    "    print(num, end=\" \")  # Output: 1 3\n",
    "\n",
    "# Example 4: Itertools Module\n",
    "import itertools\n",
    "\n",
    "# Infinite loop with itertools\n",
    "counter = itertools.count(start=1, step=2)\n",
    "for _ in range(5):\n",
    "    print(next(counter), end=\" \")  # Output: 1 3 5 7 9\n",
    "\n",
    "# Permutations\n",
    "perms = itertools.permutations([1, 2, 3], 2)\n",
    "print(list(perms))  # Output: [(1, 2), (1, 3), (2, 1), (2, 3), (3, 1), (3, 2)]"
   ]
  },
  {
   "cell_type": "markdown",
   "metadata": {},
   "source": [
    "## Conclusion\n",
    "\n",
    "This notebook covered advanced usage of **Functions**, **Conditional Statements**, and **Loops** in Python. These concepts are fundamental to writing efficient and maintainable code. Practice these techniques to master Python programming!"
   ]
  }
 ],
 "metadata": {
  "kernelspec": {
   "display_name": "Python 3",
   "language": "python",
   "name": "python3"
  },
  "language_info": {
   "codemirror_mode": {
    "name": "ipython",
    "version": 3
   },
   "file_extension": ".py",
   "mimetype": "text/x-python",
   "name": "python",
   "nbconvert_exporter": "python",
   "pygments_lexer": "ipython3",
   "version": "3.10.0"
  }
 },
 "nbformat": 4,
 "nbformat_minor": 2
}
