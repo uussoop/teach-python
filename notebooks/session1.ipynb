{
 "cells": [
  {
   "cell_type": "markdown",
   "metadata": {},
   "source": [
    "# Python Course - Session 1: Introduction to Python and Setting Up the Environment\n",
    "\n",
    "---\n",
    "\n",
    "## Table of Contents\n",
    "1. [What is Python?](#what-is-python)\n",
    "2. [Python’s History](#python-history)\n",
    "3. [Python’s Basic Differences with Other Languages](#python-differences)\n",
    "4. [Python Versions and Versioning](#python-versions)\n",
    "5. [Why Python?](#why-python)\n",
    "6. [Applications of Python](#applications-of-python)\n",
    "7. [Installing Python](#installing-python)\n",
    "8. [Ways to Code with Python](#ways-to-code)\n",
    "9. [Writing and Running Your First Python Program](#first-python-program)\n",
    "10. [Python Packaging](#python-packaging)\n",
    "11. [Practice Exercise](#practice-exercise)\n",
    "12. [Homework](#homework)\n",
    "\n",
    "---"
   ]
  },
  {
   "cell_type": "markdown",
   "metadata": {},
   "source": [
    "## 1. What is Python? <a name=\"what-is-python\"></a>\n",
    "\n",
    "Python is a high-level, interpreted programming language known for its simplicity and readability. It supports multiple programming paradigms, including procedural, object-oriented, and functional programming."
   ]
  },
  {
   "cell_type": "markdown",
   "metadata": {},
   "source": [
    "## 2. Python’s History <a name=\"python-history\"></a>\n",
    "\n",
    "- **Created by**: Guido van Rossum\n",
    "- **First Released**: 1991\n",
    "- **Name Inspiration**: Named after the British comedy group Monty Python\n",
    "- **Philosophy**: Emphasizes code readability and simplicity (see the Zen of Python: `import this`)\n",
    "- **Python 2 vs Python 3**: Python 2 was discontinued in 2020; Python 3 is the current and future of the language."
   ]
  },
  {
   "cell_type": "markdown",
   "metadata": {},
   "source": [
    "## 3. Python’s Basic Differences with Other Languages <a name=\"python-differences\"></a>\n",
    "\n",
    "- **Readability**: Python uses indentation instead of braces `{}` for code blocks, making it more readable.\n",
    "- **Interpreted**: Python is an interpreted language, meaning it executes code line-by-line without the need for compilation.\n",
    "- **Dynamic Typing**: Variables do not need explicit type declaration (e.g., `x = 10` instead of `int x = 10`).\n",
    "- **Batteries Included**: Python comes with a large standard library for tasks like file I/O, regular expressions, and more.\n",
    "- **Cross-Platform**: Python code can run on Windows, macOS, and Linux without modification."
   ]
  },
  {
   "cell_type": "markdown",
   "metadata": {},
   "source": [
    "## 4. Python Versions and Versioning <a name=\"python-versions\"></a>\n",
    "\n",
    "- **Versioning Scheme**: Python uses semantic versioning (e.g., `3.9.1`):\n",
    "  - **Major version (3)**: Significant changes, may not be backward-compatible.\n",
    "  - **Minor version (9)**: New features, backward-compatible.\n",
    "  - **Patch version (1)**: Bug fixes, backward-compatible.\n",
    "- **Python 2 vs Python 3**: Python 3 introduced breaking changes (e.g., `print` is now a function, not a statement).\n",
    "- **Latest Version**: Always use the latest stable version (e.g., Python 3.12 as of 2023)."
   ]
  },
  {
   "cell_type": "markdown",
   "metadata": {},
   "source": [
    "## 5. Why Python? <a name=\"why-python\"></a>\n",
    "\n",
    "- **Easy to Learn**: Python's syntax is simple and intuitive, making it ideal for beginners.\n",
    "- **Versatile**: Python is used in web development, data science, machine learning, automation, and more.\n",
    "- **Large Community**: Python has a vast community and extensive libraries."
   ]
  },
  {
   "cell_type": "markdown",
   "metadata": {},
   "source": [
    "## 6. Applications of Python <a name=\"applications-of-python\"></a>\n",
    "\n",
    "Python is used in various fields:\n",
    "- **Web Development**: Django, Flask\n",
    "- **Data Science**: Pandas, NumPy, Matplotlib\n",
    "- **Machine Learning**: TensorFlow, PyTorch\n",
    "- **Automation**: Scripting, web scraping\n",
    "- **Game Development**: Pygame"
   ]
  },
  {
   "cell_type": "markdown",
   "metadata": {},
   "source": [
    "## 7. Installing Python <a name=\"installing-python\"></a>\n",
    "\n",
    "To install Python:\n",
    "1. Go to [python.org](https://www.python.org/).\n",
    "2. Download the latest version of Python (e.g., Python 3.12).\n",
    "3. Run the installer and check the box **\"Add Python to PATH\"**.\n",
    "4. Verify the installation by opening the terminal and typing:\n",
    "   ```bash\n",
    "   python --version\n",
    "   ```"
   ]
  },
  {
   "cell_type": "markdown",
   "metadata": {},
   "source": [
    "## 8. Ways to Code with Python <a name=\"ways-to-code\"></a>\n",
    "\n",
    "There are multiple ways to write and run Python code:\n",
    "\n",
    "### **1. Text Editors with Terminal**\n",
    "- Use a text editor (e.g., Notepad, Sublime Text) to write code.\n",
    "- Run the code in the terminal:\n",
    "  ```bash\n",
    "  python script.py\n",
    "  ```\n",
    "\n",
    "### **2. Integrated Development Environments (IDEs)**\n",
    "- **VS Code**: Lightweight and highly customizable.\n",
    "- **PyCharm**: Professional IDE with advanced features.\n",
    "- **Jupyter Notebook**: Interactive coding, great for data science.\n",
    "\n",
    "### **3. Interactive Python Shell (REPL)**\n",
    "- Open the Python REPL by typing `python` in the terminal.\n",
    "- Write and execute code line-by-line.\n",
    "\n",
    "### **4. Online Python Editors**\n",
    "- Use platforms like [Replit](https://replit.com/) or [Google Colab](https://colab.research.google.com/) to write and run Python code in the browser."
   ]
  },
  {
   "cell_type": "markdown",
   "metadata": {},
   "source": [
    "## 9. Writing and Running Your First Python Program <a name=\"first-python-program\"></a>\n",
    "\n",
    "Let's write a simple Python program that takes user input and prints a greeting."
   ]
  },
  {
   "cell_type": "code",
   "execution_count": null,
   "metadata": {},
   "outputs": [],
   "source": [
    "# Ask for the user's name\n",
    "name = input(\"Enter your name: \")\n",
    "\n",
    "# Print a greeting\n",
    "print(f\"Hello, {name}! Welcome to Python.\")"
   ]
  },
  {
   "cell_type": "markdown",
   "metadata": {},
   "source": [
    "## 10. Python Packaging <a name=\"python-packaging\"></a>\n",
    "\n",
    "Python packages are collections of modules that can be reused in different projects. The most common tool for packaging is `pip`.\n",
    "\n",
    "### **Installing Packages**\n",
    "Use `pip` to install packages from the Python Package Index (PyPI):\n",
    "```bash\n",
    "pip install package_name\n",
    "```\n",
    "\n",
    "### **Creating Your Own Package**\n",
    "1. Create a folder with your package name.\n",
    "2. Add an `__init__.py` file to make it a package.\n",
    "3. Add your modules (`.py` files) to the folder.\n",
    "4. Use `setuptools` to create a distributable package."
   ]
  },
  {
   "cell_type": "markdown",
   "metadata": {},
   "source": [
    "## 11. Practice Exercise <a name=\"practice-exercise\"></a>\n",
    "\n",
    "Modify the program to ask for the user's age and print a message like:\n",
    "```python\n",
    "age = input(\"Enter your age: \")\n",
    "print(f\"You are {age} years old.\")\n",
    "```"
   ]
  },
  {
   "cell_type": "code",
   "execution_count": null,
   "metadata": {},
   "outputs": [],
   "source": [
    "# Your code here"
   ]
  },
  {
   "cell_type": "markdown",
   "metadata": {},
   "source": [
    "## 12. Homework <a name=\"homework\"></a>\n",
    "\n",
    "1. Install Python and VS Code(or other prefered ide or editor) at home if you haven't already.\n",
    "2. Write a Python program that asks for two numbers and prints their sum. (doesnt mean that you need to know the code ,just run it )\n",
    "\n",
    "Example:\n",
    "```python\n",
    "num1 = float(input(\"Enter the first number: \"))\n",
    "num2 = float(input(\"Enter the second number: \"))\n",
    "sum = num1 + num2\n",
    "print(f\"The sum of {num1} and {num2} is {sum}.\")\n",
    "```"
   ]
  },
  {
   "cell_type": "markdown",
   "metadata": {},
   "source": [
    "---\n",
    "\n",
    "## End of Session 1"
   ]
  }
 ],
 "metadata": {
  "kernelspec": {
   "display_name": "Python 3",
   "language": "python",
   "name": "python3"
  },
  "language_info": {
   "codemirror_mode": {
    "name": "ipython",
    "version": 3
   },
   "file_extension": ".py",
   "mimetype": "text/x-python",
   "name": "python",
   "nbconvert_exporter": "python",
   "pygments_lexer": "ipython3",
   "version": "3.10.0"
  }
 },
 "nbformat": 4,
 "nbformat_minor": 4
}
