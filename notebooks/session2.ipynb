{
 "cells": [
  {
   "cell_type": "markdown",
   "metadata": {},
   "source": [
    "# Week 2: Basic Python - Part 1\n",
    "\n",
    "---\n",
    "\n",
    "## Table of Contents\n",
    "1. [Input/Output (I/O)](#io)\n",
    "2. [Data Types](#types)\n",
    "3. [Variables](#variables)\n",
    "4. [Operators](#operators)\n",
    "5. [Practice Exercises](#exercises)\n",
    "6. [Homework](#homework)\n",
    "\n",
    "---"
   ]
  },
  {
   "cell_type": "markdown",
   "metadata": {},
   "source": [
    "## 1. Input/Output (I/O) <a name=\"io\"></a>\n",
    "\n",
    "Input/Output (I/O) refers to how a program interacts with the user. In Python, we use the `input()` function to take input from the user and the `print()` function to display output.\n",
    "\n",
    "### **Taking Input**\n",
    "- The `input()` function reads a line of text from the user.\n",
    "- By default, `input()` returns a string. You can convert it to other types if needed.\n",
    "\n",
    "### **Displaying Output**\n",
    "- The `print()` function displays text or variables to the console.\n",
    "- You can format output using `f-strings` or the `.format()` method.\n",
    "\n",
    "### Example: Basic I/O"
   ]
  },
  {
   "cell_type": "code",
   "execution_count": null,
   "metadata": {},
   "outputs": [],
   "source": [
    "# Taking input from the user\n",
    "name = input(\"Enter your name: \")\n",
    "\n",
    "# Displaying output\n",
    "print(f\"Hello, {name}! Welcome to Python.\")"
   ]
  },
  {
   "cell_type": "markdown",
   "metadata": {},
   "source": [
    "### **Key Points**\n",
    "- `input()` always returns a string. Use type conversion (e.g., `int()`, `float()`) to convert it to other types.\n",
    "- `print()` can display multiple values separated by commas.\n",
    "- Use `f-strings` (Python 3.6+) for cleaner and more readable output formatting."
   ]
  },
  {
   "cell_type": "markdown",
   "metadata": {},
   "source": [
    "## 2. Data Types <a name=\"types\"></a>\n",
    "\n",
    "Python supports several built-in data types. The most common ones are:\n",
    "\n",
    "### **1. Integers (`int`)**\n",
    "- Whole numbers, positive or negative (e.g., `10`, `-5`).\n",
    "\n",
    "### **2. Floating-Point Numbers (`float`)**\n",
    "- Decimal numbers (e.g., `3.14`, `-0.001`).\n",
    "\n",
    "### **3. Strings (`str`)**\n",
    "- Sequences of characters enclosed in single or double quotes (e.g., `\"Hello\"`, `'Python'`).\n",
    "\n",
    "### **4. Booleans (`bool`)**\n",
    "- Represents `True` or `False`.\n",
    "\n",
    "### Example: Data Types"
   ]
  },
  {
   "cell_type": "code",
   "execution_count": null,
   "metadata": {},
   "outputs": [],
   "source": [
    "# Integer\n",
    "age = 25\n",
    "print(f\"Type of age: {type(age)}, Value: {age}\")\n",
    "\n",
    "# Float\n",
    "height = 5.9\n",
    "print(f\"Type of height: {type(height)}, Value: {height}\")\n",
    "\n",
    "# String\n",
    "name = \"Alice\"\n",
    "print(f\"Type of name: {type(name)}, Value: {name}\")\n",
    "\n",
    "# Boolean\n",
    "is_student = True\n",
    "print(f\"Type of is_student: {type(is_student)}, Value: {is_student}\")"
   ]
  },
  {
   "cell_type": "markdown",
   "metadata": {},
   "source": [
    "### **Key Points**\n",
    "- Use `type()` to check the data type of a variable.\n",
    "- Python is dynamically typed, so you don’t need to declare variable types explicitly."
   ]
  },
  {
   "cell_type": "markdown",
   "metadata": {},
   "source": [
    "## 3. Variables <a name=\"variables\"></a>\n",
    "\n",
    "Variables are used to store data. In Python, you can assign a value to a variable using the `=` operator.\n",
    "\n",
    "### **Rules for Variable Names**\n",
    "- Must start with a letter or underscore (`_`).\n",
    "- Can only contain letters, numbers, and underscores.\n",
    "- Case-sensitive (`age` and `Age` are different).\n",
    "- Avoid using Python keywords (e.g., `if`, `for`, `while`).\n",
    "\n",
    "### Example: Variables"
   ]
  },
  {
   "cell_type": "code",
   "execution_count": null,
   "metadata": {},
   "outputs": [],
   "source": [
    "# Assigning values to variables\n",
    "x = 10\n",
    "y = 20\n",
    "name = \"Bob\"\n",
    "\n",
    "# Displaying variables\n",
    "print(f\"x = {x}, y = {y}, name = {name}\")"
   ]
  },
  {
   "cell_type": "markdown",
   "metadata": {},
   "source": [
    "### **Key Points**\n",
    "- Variables can be reassigned to new values.\n",
    "- Use descriptive names for variables (e.g., `user_age` instead of `x`)."
   ]
  },
  {
   "cell_type": "markdown",
   "metadata": {},
   "source": [
    "## 4. Operators <a name=\"operators\"></a>\n",
    "\n",
    "Operators are used to perform operations on variables and values. Python supports the following types of operators:\n",
    "\n",
    "### **1. Arithmetic Operators**\n",
    "- `+` (Addition), `-` (Subtraction), `*` (Multiplication), `/` (Division), `%` (Modulus), `**` (Exponentiation), `//` (Floor Division).\n",
    "\n",
    "### **2. Comparison Operators**\n",
    "- `==` (Equal), `!=` (Not Equal), `>` (Greater Than), `<` (Less Than), `>=` (Greater Than or Equal), `<=` (Less Than or Equal).\n",
    "\n",
    "### **3. Logical Operators**\n",
    "- `and`, `or`, `not`.\n",
    "\n",
    "### Example: Operators"
   ]
  },
  {
   "cell_type": "code",
   "execution_count": null,
   "metadata": {},
   "outputs": [],
   "source": [
    "# Arithmetic Operators\n",
    "a = 10\n",
    "b = 3\n",
    "print(f\"a + b = {a + b}\")  # Addition\n",
    "print(f\"a - b = {a - b}\")  # Subtraction\n",
    "print(f\"a * b = {a * b}\")  # Multiplication\n",
    "print(f\"a / b = {a / b}\")  # Division\n",
    "print(f\"a % b = {a % b}\")  # Modulus\n",
    "print(f\"a ** b = {a ** b}\")  # Exponentiation\n",
    "print(f\"a // b = {a // b}\")  # Floor Division\n",
    "\n",
    "# Comparison Operators\n",
    "print(f\"a == b: {a == b}\")  # Equal\n",
    "print(f\"a != b: {a != b}\")  # Not Equal\n",
    "print(f\"a > b: {a > b}\")  # Greater Than\n",
    "\n",
    "# Logical Operators\n",
    "print(f\"a > 5 and b < 5: {a > 5 and b < 5}\")  # and\n",
    "print(f\"a > 5 or b > 5: {a > 5 or b > 5}\")  # or\n",
    "print(f\"not(a > 5): {not(a > 5)}\")  # not"
   ]
  },
  {
   "cell_type": "markdown",
   "metadata": {},
   "source": [
    "### **Key Points**\n",
    "- Arithmetic operators perform mathematical operations.\n",
    "- Comparison operators return `True` or `False`.\n",
    "- Logical operators combine multiple conditions."
   ]
  },
  {
   "cell_type": "markdown",
   "metadata": {},
   "source": [
    "## 5. Practice Exercises <a name=\"exercises\"></a>\n",
    "\n",
    "### **Exercise 1: Basic I/O**\n",
    "Write a program that asks for the user's name and age, then prints a message like:\n",
    "```\n",
    "Hello, [name]! You are [age] years old.\n",
    "```\n",
    "\n",
    "### **Exercise 2: Arithmetic Operations**\n",
    "Write a program that takes two numbers as input and prints their sum, difference, product, and quotient.\n",
    "\n",
    "### **Exercise 3: Comparison and Logical Operators**\n",
    "Write a program that checks if a number is between 10 and 20 (inclusive) and prints `True` or `False`."
   ]
  },
  {
   "cell_type": "markdown",
   "metadata": {},
   "source": [
    "## 6. Homework <a name=\"homework\"></a>\n",
    "\n",
    "1. Write a program that converts temperature from Celsius to Fahrenheit.\n",
    "   - Formula: `F = (C * 9/5) + 32`\n",
    "2. Write a program that calculates the area of a rectangle using user-provided length and width.\n",
    "3. Write a program that checks if a number is even or odd."
   ]
  },
  {
   "cell_type": "markdown",
   "metadata": {},
   "source": [
    "---\n",
    "\n",
    "## End of Week 2"
   ]
  }
 ],
 "metadata": {
  "kernelspec": {
   "display_name": "Python 3",
   "language": "python",
   "name": "python3"
  },
  "language_info": {
   "codemirror_mode": {
    "name": "ipython",
    "version": 3
   },
   "file_extension": ".py",
   "mimetype": "text/x-python",
   "name": "python",
   "nbconvert_exporter": "python",
   "pygments_lexer": "ipython3",
   "version": "3.10.0"
  }
 },
 "nbformat": 4,
 "nbformat_minor": 4
}
