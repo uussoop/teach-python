{
 "cells": [
  {
   "cell_type": "markdown",
   "metadata": {},
   "source": [
    "# Week 5: Classes - Part 2\n",
    "\n",
    "---\n",
    "\n",
    "## Table of Contents\n",
    "1. [Method Overriding](#method-overriding)\n",
    "2. [Design Patterns](#design-patterns)\n",
    "   - Singleton Pattern\n",
    "   - Factory Pattern\n",
    "3. [Exercises](#exercises)\n",
    "4. [Homework](#homework)\n",
    "\n",
    "---"
   ]
  },
  {
   "cell_type": "markdown",
   "metadata": {},
   "source": [
    "## 1. Method Overriding <a name=\"method-overriding\"></a>\n",
    "\n",
    "Method overriding allows a child class to provide a specific implementation of a method that is already defined in its parent class.\n",
    "\n",
    "### **1.1 How Method Overriding Works**\n",
    "- When a method in the child class has the same name as a method in the parent class, the child class method **overrides** the parent class method.\n",
    "- The overridden method in the parent class is not called unless explicitly invoked using `super()`.\n",
    "\n",
    "### **1.2 Example: Method Overriding**"
   ]
  },
  {
   "cell_type": "code",
   "execution_count": null,
   "metadata": {},
   "outputs": [],
   "source": [
    "class Animal:\n",
    "    def speak(self):\n",
    "        print(\"Animal speaks.\")\n",
    "\n",
    "class Dog(Animal):\n",
    "    def speak(self):  # Override the `speak` method\n",
    "        print(\"Dog barks.\")\n",
    "\n",
    "class Cat(Animal):\n",
    "    def speak(self):  # Override the `speak` method\n",
    "        print(\"Cat meows.\")\n",
    "\n",
    "my_dog = Dog()\n",
    "my_dog.speak()  # Output: Dog barks.\n",
    "\n",
    "my_cat = Cat()\n",
    "my_cat.speak()  # Output: Cat meows."
   ]
  },
  {
   "cell_type": "markdown",
   "metadata": {},
   "source": [
    "### **1.3 Using `super()`**\n",
    "- The `super()` function allows you to call the overridden method from the parent class.\n",
    "- Example:\n",
    "  ```python\n",
    "  class Dog(Animal):\n",
    "      def speak(self):\n",
    "          super().speak()  # Call the parent class method\n",
    "          print(\"Dog barks.\")\n",
    "  ```\n",
    "\n",
    "### **1.4 Example: Using `super()`**"
   ]
  },
  {
   "cell_type": "code",
   "execution_count": null,
   "metadata": {},
   "outputs": [],
   "source": [
    "class Dog(Animal):\n",
    "    def speak(self):\n",
    "        super().speak()  # Call the parent class method\n",
    "        print(\"Dog barks.\")\n",
    "\n",
    "my_dog = Dog()\n",
    "my_dog.speak()  # Output: Animal speaks.\\nDog barks."
   ]
  },
  {
   "cell_type": "markdown",
   "metadata": {},
   "source": [
    "---"
   ]
  },
  {
   "cell_type": "markdown",
   "metadata": {},
   "source": [
    "## 2. Design Patterns <a name=\"design-patterns\"></a>\n",
    "\n",
    "Design patterns are reusable solutions to common problems in software design. They provide best practices for structuring code.\n",
    "\n",
    "### **2.1 Singleton Pattern**\n",
    "- Ensures that a class has only one instance and provides a global point of access to it.\n",
    "- Example:\n",
    "  ```python\n",
    "  class Singleton:\n",
    "      _instance = None\n",
    "      \n",
    "      def __new__(cls):\n",
    "          if cls._instance is None:\n",
    "              cls._instance = super().__new__(cls)\n",
    "          return cls._instance\n",
    "  ```\n",
    "\n",
    "### **2.2 Example: Singleton Pattern**"
   ]
  },
  {
   "cell_type": "code",
   "execution_count": null,
   "metadata": {},
   "outputs": [],
   "source": [
    "class Singleton:\n",
    "    _instance = None\n",
    "    \n",
    "    def __new__(cls):\n",
    "        if cls._instance is None:\n",
    "            cls._instance = super().__new__(cls)\n",
    "        return cls._instance\n",
    "\n",
    "singleton1 = Singleton()\n",
    "singleton2 = Singleton()\n",
    "\n",
    "print(singleton1 is singleton2)  # Output: True"
   ]
  },
  {
   "cell_type": "markdown",
   "metadata": {},
   "source": [
    "### **2.3 Factory Pattern**\n",
    "- Provides an interface for creating objects in a superclass but allows subclasses to alter the type of objects created.\n",
    "- Example:\n",
    "  ```python\n",
    "  class AnimalFactory:\n",
    "      def create_animal(self, animal_type):\n",
    "          if animal_type == \"dog\":\n",
    "              return Dog()\n",
    "          elif animal_type == \"cat\":\n",
    "              return Cat()\n",
    "          else:\n",
    "              raise ValueError(\"Invalid animal type.\")\n",
    "  ```\n",
    "\n",
    "### **2.4 Example: Factory Pattern**"
   ]
  },
  {
   "cell_type": "code",
   "execution_count": null,
   "metadata": {},
   "outputs": [],
   "source": [
    "class AnimalFactory:\n",
    "    def create_animal(self, animal_type):\n",
    "        if animal_type == \"dog\":\n",
    "            return Dog()\n",
    "        elif animal_type == \"cat\":\n",
    "            return Cat()\n",
    "        else:\n",
    "            raise ValueError(\"Invalid animal type.\")\n",
    "\n",
    "factory = AnimalFactory()\n",
    "dog = factory.create_animal(\"dog\")\n",
    "dog.speak()  # Output: Dog barks.\n",
    "\n",
    "cat = factory.create_animal(\"cat\")\n",
    "cat.speak()  # Output: Cat meows."
   ]
  },
  {
   "cell_type": "markdown",
   "metadata": {},
   "source": [
    "---"
   ]
  },
  {
   "cell_type": "markdown",
   "metadata": {},
   "source": [
    "## 3. Exercises <a name=\"exercises\"></a>\n",
    "\n",
    "1. **Method Overriding**: Create a class `Bird` that inherits from `Animal` and overrides the `speak` method to print `\"Chirp!\"`.\n",
    "2. **Singleton Pattern**: Modify the `Singleton` class to include a field `name` and demonstrate that all instances share the same `name`.\n",
    "3. **Factory Pattern**: Extend the `AnimalFactory` class to support creating a `Bird` object.\n",
    "\n",
    "---"
   ]
  },
  {
   "cell_type": "markdown",
   "metadata": {},
   "source": [
    "## 4. Homework <a name=\"homework\"></a>\n",
    "\n",
    "1. Create a class `Shape` with a method `area`. Override this method in child classes `Circle` and `Rectangle` to calculate their respective areas.\n",
    "2. Implement a `Logger` class using the Singleton pattern. Ensure that all instances of `Logger` share the same log file.\n",
    "3. Create a `VehicleFactory` class that can create objects of `Car`, `Bike`, and `Truck` using the Factory pattern.\n",
    "\n",
    "---"
   ]
  },
  {
   "cell_type": "markdown",
   "metadata": {},
   "source": [
    "## End of Week 5"
   ]
  }
 ],
 "metadata": {
  "kernelspec": {
   "display_name": "Python 3",
   "language": "python",
   "name": "python3"
  },
  "language_info": {
   "codemirror_mode": {
    "name": "ipython",
    "version": 3
   },
   "file_extension": ".py",
   "mimetype": "text/x-python",
   "name": "python",
   "nbconvert_exporter": "python",
   "pygments_lexer": "ipython3",
   "version": "3.10.0"
  }
 },
 "nbformat": 4,
 "nbformat_minor": 4
}
