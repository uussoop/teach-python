{
 "cells": [
  {
   "cell_type": "markdown",
   "metadata": {},
   "source": [
    "# Introduction to Git\n",
    "\n",
    "---\n",
    "\n",
    "## Table of Contents\n",
    "1. [What is Git?](#git)\n",
    "2. [Installing Git](#install)\n",
    "3. [Getting Started with Git](#start)\n",
    "4. [Basic Git Commands](#commands)\n",
    "   - `git init`\n",
    "   - `git add`\n",
    "   - `git commit`\n",
    "   - `git status`\n",
    "   - `git remote add`\n",
    "   - `git push`\n",
    "   - `git pull`\n",
    "5. [Exercises](#exercises)\n",
    "6. [Additional Resources](#resources)\n",
    "\n",
    "---"
   ]
  },
  {
   "cell_type": "markdown",
   "metadata": {},
   "source": [
    "## 1. What is Git? <a name=\"git\"></a>\n",
    "\n",
    "**Git** is a Version Control System (VCS) that helps developers manage changes to their code. With Git, you can:\n",
    "- Keep track of your code's history.\n",
    "- Collaborate with others on a project.\n",
    "- Create different versions (branches) of your code.\n",
    "\n",
    "---"
   ]
  },
  {
   "cell_type": "markdown",
   "metadata": {},
   "source": [
    "## 2. Installing Git <a name=\"install\"></a>\n",
    "\n",
    "To install Git, follow these steps:\n",
    "\n",
    "### **Windows**\n",
    "- Go to [git-scm.com](https://git-scm.com/) and download and install the appropriate version.\n",
    "\n",
    "### **Linux**\n",
    "- Use the following command:\n",
    "  ```bash\n",
    "  sudo apt install git\n",
    "  ```\n",
    "\n",
    "### **macOS**\n",
    "- Use the following command:\n",
    "  ```bash\n",
    "  brew install git\n",
    "  ```\n",
    "\n",
    "---"
   ]
  },
  {
   "cell_type": "markdown",
   "metadata": {},
   "source": [
    "## 3. Getting Started with Git <a name=\"start\"></a>\n",
    "\n",
    "To start using Git, you first need to create a **Repository**. A repository is where Git stores the changes to your code.\n",
    "\n",
    "### **Initial Setup**\n",
    "- Set your name and email:\n",
    "  ```bash\n",
    "  git config --global user.name \"Your Name\"\n",
    "  git config --global user.email \"your.email@example.com\"\n",
    "  ```\n",
    "- Check your settings:\n",
    "  ```bash\n",
    "  git config --list\n",
    "  ```\n",
    "\n",
    "---"
   ]
  },
  {
   "cell_type": "markdown",
   "metadata": {},
   "source": [
    "## 4. Basic Git Commands <a name=\"commands\"></a>\n",
    "\n",
    "### **4.1 `git init`**\n",
    "- This command creates a new Git repository.\n",
    "- Example:\n",
    "  ```bash\n",
    "  git init\n",
    "  ```\n",
    "\n",
    "### **4.2 `git add`**\n",
    "- This command adds file changes to the **Staging Area**.\n",
    "- Example:\n",
    "  ```bash\n",
    "  git add file.txt  # Add a specific file\n",
    "  git add .         # Add all files\n",
    "  ```\n",
    "\n",
    "### **4.3 `git commit`**\n",
    "- This command adds changes from the Staging Area to the Git history.\n",
    "- Example:\n",
    "  ```bash\n",
    "  git commit -m \"Description of changes\"\n",
    "  ```\n",
    "\n",
    "### **4.4 `git status`**\n",
    "- This command shows the current status of the repository.\n",
    "- Example:\n",
    "  ```bash\n",
    "  git status\n",
    "  ```\n",
    "\n",
    "### **4.5 `git remote add`**\n",
    "- This command adds a remote repository to your project.\n",
    "- Example:\n",
    "  ```bash\n",
    "  git remote add origin https://github.com/username/repo.git\n",
    "  ```\n",
    "\n",
    "### **4.6 `git push`**\n",
    "- This command sends local changes to the remote repository.\n",
    "- Example:\n",
    "  ```bash\n",
    "  git push origin main\n",
    "  ```\n",
    "\n",
    "### **4.7 `git pull`**\n",
    "- This command fetches changes from the remote repository to your local project.\n",
    "- Example:\n",
    "  ```bash\n",
    "  git pull origin main\n",
    "  ```\n",
    "\n",
    "---"
   ]
  },
  {
   "cell_type": "markdown",
   "metadata": {},
   "source": [
    "## 5. Exercises <a name=\"exercises\"></a>\n",
    "\n",
    "1. Create a new Git repository.\n",
    "2. Create a text file and add it to the Staging Area.\n",
    "3. Commit the changes.\n",
    "4. Create a repository on GitHub and push your local changes to it.\n",
    "\n",
    "---"
   ]
  },
  {
   "cell_type": "markdown",
   "metadata": {},
   "source": [
    "## 6. Additional Resources <a name=\"resources\"></a>\n",
    "\n",
    "- [Official Git Documentation](https://git-scm.com/doc)\n",
    "- [Git Tutorials by Atlassian](https://www.atlassian.com/git/tutorials)\n",
    "- [GitHub Guides](https://guides.github.com/)\n",
    "\n",
    "---"
   ]
  },
  {
   "cell_type": "markdown",
   "metadata": {},
   "source": [
    "## Conclusion\n",
    "\n",
    "By learning these basic commands, you can start using Git to manage your projects. Good luck! 🚀"
   ]
  }
 ],
 "metadata": {
  "kernelspec": {
   "display_name": "Python 3",
   "language": "python",
   "name": "python3"
  },
  "language_info": {
   "codemirror_mode": {
    "name": "ipython",
    "version": 3
   },
   "file_extension": ".py",
   "mimetype": "text/x-python",
   "name": "python",
   "nbconvert_exporter": "python",
   "pygments_lexer": "ipython3",
   "version": "3.10.0"
  }
 },
 "nbformat": 4,
 "nbformat_minor": 4
}
