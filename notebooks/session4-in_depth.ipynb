{
 "cells": [
  {
   "cell_type": "markdown",
   "metadata": {},
   "source": [
    "# Week 4: Classes - Part 1\n",
    "\n",
    "---\n",
    "\n",
    "## Table of Contents\n",
    "1. [Introduction to Classes](#introduction)\n",
    "2. [Fields and Methods](#fields-and-methods)\n",
    "3. [Inheritance](#inheritance)\n",
    "4. [Advanced Concepts](#advanced-concepts)\n",
    "5. [Exercises](#exercises)\n",
    "6. [Homework](#homework)\n",
    "\n",
    "---"
   ]
  },
  {
   "cell_type": "markdown",
   "metadata": {},
   "source": [
    "## 1. Introduction to Classes <a name=\"introduction\"></a>\n",
    "\n",
    "A **class** is a blueprint for creating objects. It defines the properties (fields) and behaviors (methods) that the objects created from the class will have. Classes are fundamental to **Object-Oriented Programming (OOP)**, which is a programming paradigm based on the concept of \"objects\".\n",
    "\n",
    "### **Key Concepts**\n",
    "- **Object**: An instance of a class. Objects have state (fields) and behavior (methods).\n",
    "- **Fields**: Variables that belong to an object or class. They represent the state of the object.\n",
    "- **Methods**: Functions that belong to an object or class. They define the behavior of the object.\n",
    "\n",
    "### **Example: Simple Class**\n",
    "Let's create a simple class `Dog` with fields `name` and `age` and a method `bark`."
   ]
  },
  {
   "cell_type": "code",
   "execution_count": null,
   "metadata": {},
   "outputs": [],
   "source": [
    "class Dog:\n",
    "    # Constructor (__init__ method)\n",
    "    def __init__(self, name, age):\n",
    "        self.name = name  # Field\n",
    "        self.age = age    # Field\n",
    "    \n",
    "    # Method\n",
    "    def bark(self):\n",
    "        print(f\"{self.name} says woof!\")\n",
    "\n",
    "# Creating an object of the Dog class\n",
    "my_dog = Dog(\"Buddy\", 3)\n",
    "my_dog.bark()  # Output: Buddy says woof!"
   ]
  },
  {
   "cell_type": "markdown",
   "metadata": {},
   "source": [
    "### **Explanation**\n",
    "- The `__init__` method is a special method called a **constructor**. It is automatically called when an object is created.\n",
    "- `self` refers to the instance of the class. It is used to access fields and methods within the class.\n",
    "- Fields like `name` and `age` are defined using `self`.\n",
    "- Methods like `bark` are defined like regular functions but are associated with the class."
   ]
  },
  {
   "cell_type": "markdown",
   "metadata": {},
   "source": [
    "---"
   ]
  },
  {
   "cell_type": "markdown",
   "metadata": {},
   "source": [
    "## 2. Fields and Methods <a name=\"fields-and-methods\"></a>\n",
    "\n",
    "### **2.1 Fields**\n",
    "- Fields are variables that store data about an object.\n",
    "- They are defined in the `__init__` method (constructor) or directly in the class.\n",
    "- Fields can be **instance variables** (unique to each object) or **class variables** (shared across all objects).\n",
    "\n",
    "#### **Example: Instance and Class Variables**"
   ]
  },
  {
   "cell_type": "code",
   "execution_count": null,
   "metadata": {},
   "outputs": [],
   "source": [
    "class Person:\n",
    "    # Class variable (shared by all instances)\n",
    "    species = \"Homo sapiens\"\n",
    "\n",
    "    def __init__(self, name, age):\n",
    "        # Instance variables (unique to each instance)\n",
    "        self.name = name\n",
    "        self.age = age\n",
    "\n",
    "# Creating objects\n",
    "person1 = Person(\"Alice\", 25)\n",
    "person2 = Person(\"Bob\", 30)\n",
    "\n",
    "print(person1.name)  # Output: Alice\n",
    "print(person2.name)  # Output: Bob\n",
    "print(person1.species)  # Output: Homo sapiens\n",
    "print(person2.species)  # Output: Homo sapiens"
   ]
  },
  {
   "cell_type": "markdown",
   "metadata": {},
   "source": [
    "### **2.2 Methods**\n",
    "- Methods are functions that belong to a class and define the behavior of objects.\n",
    "- They always take `self` as the first parameter, which refers to the object itself.\n",
    "- Methods can access and modify the fields of the object.\n",
    "\n",
    "#### **Example: Class with Methods**"
   ]
  },
  {
   "cell_type": "code",
   "execution_count": null,
   "metadata": {},
   "outputs": [],
   "source": [
    "class Car:\n",
    "    def __init__(self, make, model, year):\n",
    "        self.make = make\n",
    "        self.model = model\n",
    "        self.year = year\n",
    "    \n",
    "    # Method to display car information\n",
    "    def display_info(self):\n",
    "        print(f\"{self.year} {self.make} {self.model}\")\n",
    "    \n",
    "    # Method to update the year\n",
    "    def update_year(self, new_year):\n",
    "        self.year = new_year\n",
    "\n",
    "# Creating an object\n",
    "my_car = Car(\"Toyota\", \"Corolla\", 2020)\n",
    "my_car.display_info()  # Output: 2020 Toyota Corolla\n",
    "\n",
    "# Updating the year\n",
    "my_car.update_year(2022)\n",
    "my_car.display_info()  # Output: 2022 Toyota Corolla"
   ]
  },
  {
   "cell_type": "markdown",
   "metadata": {},
   "source": [
    "---"
   ]
  },
  {
   "cell_type": "markdown",
   "metadata": {},
   "source": [
    "## 3. Inheritance <a name=\"inheritance\"></a>\n",
    "\n",
    "Inheritance allows a class to inherit fields and methods from another class. The class that inherits is called the **child class**, and the class being inherited from is called the **parent class**.\n",
    "\n",
    "### **3.1 Basic Inheritance**\n",
    "- Use the syntax `class ChildClass(ParentClass):` to create a child class.\n",
    "- The child class inherits all fields and methods from the parent class.\n",
    "\n",
    "#### **Example: Basic Inheritance**"
   ]
  },
  {
   "cell_type": "code",
   "execution_count": null,
   "metadata": {},
   "outputs": [],
   "source": [
    "class Animal:\n",
    "    def __init__(self, name):\n",
    "        self.name = name\n",
    "    \n",
    "    def speak(self):\n",
    "        print(f\"{self.name} makes a sound.\")\n",
    "\n",
    "class Dog(Animal):  # Dog inherits from Animal\n",
    "    def bark(self):\n",
    "        print(f\"{self.name} says woof!\")\n",
    "\n",
    "# Creating an object of the Dog class\n",
    "my_dog = Dog(\"Buddy\")\n",
    "my_dog.speak()  # Output: Buddy makes a sound.\n",
    "my_dog.bark()   # Output: Buddy says woof!"
   ]
  },
  {
   "cell_type": "markdown",
   "metadata": {},
   "source": [
    "### **3.2 Overriding Methods**\n",
    "- A child class can override a method from the parent class by redefining it.\n",
    "- This allows the child class to provide a specific implementation of the method.\n",
    "\n",
    "#### **Example: Method Overriding**"
   ]
  },
  {
   "cell_type": "code",
   "execution_count": null,
   "metadata": {},
   "outputs": [],
   "source": [
    "class Cat(Animal):\n",
    "    def speak(self):  # Override the `speak` method\n",
    "        print(f\"{self.name} says meow!\")\n",
    "\n",
    "# Creating an object of the Cat class\n",
    "my_cat = Cat(\"Whiskers\")\n",
    "my_cat.speak()  # Output: Whiskers says meow!"
   ]
  },
  {
   "cell_type": "markdown",
   "metadata": {},
   "source": [
    "### **3.3 The `super()` Function**\n",
    "- The `super()` function is used to call a method from the parent class.\n",
    "- It is often used in the `__init__` method to initialize fields inherited from the parent class.\n",
    "\n",
    "#### **Example: Using `super()`**"
   ]
  },
  {
   "cell_type": "code",
   "execution_count": null,
   "metadata": {},
   "outputs": [],
   "source": [
    "class Bird(Animal):\n",
    "    def __init__(self, name, can_fly):\n",
    "        super().__init__(name)  # Call the parent class's __init__ method\n",
    "        self.can_fly = can_fly\n",
    "    \n",
    "    def speak(self):\n",
    "        print(f\"{self.name} says chirp!\")\n",
    "\n",
    "# Creating an object of the Bird class\n",
    "my_bird = Bird(\"Tweety\", True)\n",
    "my_bird.speak()  # Output: Tweety says chirp!\n",
    "print(my_bird.can_fly)  # Output: True"
   ]
  },
  {
   "cell_type": "markdown",
   "metadata": {},
   "source": [
    "---"
   ]
  },
  {
   "cell_type": "markdown",
   "metadata": {},
   "source": [
    "## 4. Advanced Concepts <a name=\"advanced-concepts\"></a>\n",
    "\n",
    "### **4.1 Encapsulation**\n",
    "- Encapsulation is the concept of restricting access to certain fields or methods.\n",
    "- In Python, encapsulation is achieved using **private fields** (prefixed with `__`) and **getter/setter methods**.\n",
    "\n",
    "#### **Example: Encapsulation**"
   ]
  },
  {
   "cell_type": "code",
   "execution_count": null,
   "metadata": {},
   "outputs": [],
   "source": [
    "class BankAccount:\n",
    "    def __init__(self, account_number, balance):\n",
    "        self.__account_number = account_number  # Private field\n",
    "        self.__balance = balance  # Private field\n",
    "    \n",
    "    # Getter method for balance\n",
    "    def get_balance(self):\n",
    "        return self.__balance\n",
    "    \n",
    "    # Setter method for balance\n",
    "    def set_balance(self, new_balance):\n",
    "        if new_balance >= 0:\n",
    "            self.__balance = new_balance\n",
    "        else:\n",
    "            print(\"Balance cannot be negative.\")\n",
    "\n",
    "# Creating an object\n",
    "account = BankAccount(\"123456\", 1000)\n",
    "print(account.get_balance())  # Output: 1000\n",
    "account.set_balance(1500)\n",
    "print(account.get_balance())  # Output: 1500"
   ]
  },
  {
   "cell_type": "markdown",
   "metadata": {},
   "source": [
    "### **4.2 Polymorphism**\n",
    "- Polymorphism allows objects of different classes to be treated as objects of a common parent class.\n",
    "- It is often achieved through method overriding.\n",
    "\n",
    "#### **Example: Polymorphism**"
   ]
  },
  {
   "cell_type": "code",
   "execution_count": null,
   "metadata": {},
   "outputs": [],
   "source": [
    "class Animal:\n",
    "    def speak(self):\n",
    "        print(\"Animal speaks.\")\n",
    "\n",
    "class Dog(Animal):\n",
    "    def speak(self):\n",
    "        print(\"Dog barks.\")\n",
    "\n",
    "class Cat(Animal):\n",
    "    def speak(self):\n",
    "        print(\"Cat meows.\")\n",
    "\n",
    "# Polymorphism in action\n",
    "animals = [Dog(), Cat()]\n",
    "for animal in animals:\n",
    "    animal.speak()\n",
    "# Output:\n",
    "# Dog barks.\n",
    "# Cat meows."
   ]
  },
  {
   "cell_type": "markdown",
   "metadata": {},
   "source": [
    "---"
   ]
  },
  {
   "cell_type": "markdown",
   "metadata": {},
   "source": [
    "## 5. Exercises <a name=\"exercises\"></a>\n",
    "\n",
    "1. **Fields and Methods**: Create a class `Rectangle` with fields `width` and `height` and a method `area` that calculates the area.\n",
    "2. **Inheritance**: Create a class `Vehicle` with fields `make` and `model`. Then create a child class `Car` that adds a field `year` and a method `display_info`.\n",
    "3. **Method Overriding**: Create a class `Bird` that inherits from `Animal` and overrides the `speak` method to print `\"Chirp!\"`.\n",
    "4. **Encapsulation**: Create a class `Employee` with private fields `name` and `salary`. Add getter and setter methods for `salary`.\n",
    "5. **Polymorphism**: Create a class `Shape` with a method `area`. Then create child classes `Circle` and `Square` that override the `area` method.\n",
    "\n",
    "---"
   ]
  },
  {
   "cell_type": "markdown",
   "metadata": {},
   "source": [
    "## 6. Homework <a name=\"homework\"></a>\n",
    "\n",
    "1. Create a class `BankAccount` with fields `account_number` and `balance`. Add methods `deposit` and `withdraw` to modify the balance.\n",
    "2. Create a class `SavingsAccount` that inherits from `BankAccount` and adds a field `interest_rate` and a method `add_interest`.\n",
    "3. Write a program that creates objects of `BankAccount` and `SavingsAccount` and demonstrates their functionality.\n",
    "4. Implement encapsulation in the `BankAccount` class by making the `balance` field private and providing getter/setter methods.\n",
    "5. Create a class `Shape` with a method `draw`. Then create child classes `Circle`, `Square`, and `Triangle` that override the `draw` method to print the shape being drawn.\n",
    "\n",
    "---"
   ]
  },
  {
   "cell_type": "markdown",
   "metadata": {},
   "source": [
    "## End of Week 4"
   ]
  }
 ],
 "metadata": {
  "kernelspec": {
   "display_name": "Python 3",
   "language": "python",
   "name": "python3"
  },
  "language_info": {
   "codemirror_mode": {
    "name": "ipython",
    "version": 3
   },
   "file_extension": ".py",
   "mimetype": "text/x-python",
   "name": "python",
   "nbconvert_exporter": "python",
   "pygments_lexer": "ipython3",
   "version": "3.10.0"
  }
 },
 "nbformat": 4,
 "nbformat_minor": 4
}
