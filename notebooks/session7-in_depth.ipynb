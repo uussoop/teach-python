{
 "cells": [
  {
   "cell_type": "markdown",
   "metadata": {},
   "source": [
    "# Week 7: Using Libraries - Part 2 (Advanced)\n",
    "\n",
    "---\n",
    "\n",
    "## Table of Contents\n",
    "1. [Advanced tkinter Patterns](#advanced-tkinter)\n",
    "   - MVC Architecture\n",
    "   - Custom Widgets\n",
    "   - Threading with GUIs\n",
    "2. [Software Testing Pyramid](#testing-pyramid)\n",
    "   - Unit Testing (Deep Dive)\n",
    "   - Integration Testing\n",
    "   - System Testing\n",
    "   - Acceptance Testing\n",
    "3. [Advanced unittest Features](#advanced-unittest)\n",
    "   - Parameterized Tests\n",
    "   - Mocking and Patching\n",
    "   - Test Suites\n",
    "4. [Alternative Testing Frameworks](#alt-testing)\n",
    "   - pytest\n",
    "   - doctest\n",
    "5. [Exercises](#exercises)\n",
    "6. [Homework](#homework)\n",
    "\n",
    "---"
   ]
  },
  {
   "cell_type": "markdown",
   "metadata": {},
   "source": [
    "## 1. Advanced tkinter Patterns <a name=\"advanced-tkinter\"></a>\n",
    "\n",
    "### **1.1 MVC Architecture with tkinter**\n",
    "Separating concerns using Model-View-Controller pattern:"
   ]
  },
  {
   "cell_type": "code",
   "execution_count": null,
   "metadata": {},
   "outputs": [],
   "source": [
    "import tkinter as tk\n",
    "\n",
    "class Model:\n",
    "    def __init__(self):\n",
    "        self.data = \"\"\n",
    "    \n",
    "    def save(self, data):\n",
    "        self.data = data\n",
    "    \n",
    "    def load(self):\n",
    "        return self.data\n",
    "\n",
    "class View(tk.Frame):\n",
    "    def __init__(self, master):\n",
    "        super().__init__(master)\n",
    "        self.entry = tk.Entry(self)\n",
    "        self.save_btn = tk.Button(self, text=\"Save\")\n",
    "        self.load_btn = tk.Button(self, text=\"Load\")\n",
    "        self.entry.pack()\n",
    "        self.save_btn.pack()\n",
    "        self.load_btn.pack()\n",
    "\n",
    "class Controller:\n",
    "    def __init__(self, root):\n",
    "        self.model = Model()\n",
    "        self.view = View(root)\n",
    "        self.view.save_btn.config(command=self.save)\n",
    "        self.view.load_btn.config(command=self.load)\n",
    "        self.view.pack()\n",
    "    \n",
    "    def save(self):\n",
    "        self.model.save(self.view.entry.get())\n",
    "    \n",
    "    def load(self):\n",
    "        self.view.entry.delete(0, tk.END)\n",
    "        self.view.entry.insert(0, self.model.load())\n",
    "\n",
    "root = tk.Tk()\n",
    "app = Controller(root)\n",
    "root.mainloop()"
   ]
  },
  {
   "cell_type": "markdown",
   "metadata": {},
   "source": [
    "### **1.2 Custom Widgets**\n",
    "Creating reusable composite widgets:"
   ]
  },
  {
   "cell_type": "code",
   "execution_count": null,
   "metadata": {},
   "outputs": [],
   "source": [
    "class LabeledEntry(tk.Frame):\n",
    "    def __init__(self, parent, label_text, **kwargs):\n",
    "        super().__init__(parent)\n",
    "        self.label = tk.Label(self, text=label_text)\n",
    "        self.entry = tk.Entry(self, **kwargs)\n",
    "        self.label.pack(side=tk.LEFT)\n",
    "        self.entry.pack(side=tk.RIGHT)\n",
    "    \n",
    "    def get(self):\n",
    "        return self.entry.get()\n",
    "    \n",
    "    def insert(self, index, text):\n",
    "        self.entry.insert(index, text)\n",
    "\n",
    "# Usage\n",
    "root = tk.Tk()\n",
    "name_entry = LabeledEntry(root, \"Name:\", width=30)\n",
    "name_entry.pack()\n",
    "root.mainloop()"
   ]
  },
  {
   "cell_type": "markdown",
   "metadata": {},
   "source": [
    "### **1.3 Threading with GUIs**\n",
    "Preventing GUI freeze during long operations:"
   ]
  },
  {
   "cell_type": "code",
   "execution_count": null,
   "metadata": {},
   "outputs": [],
   "source": [
    "import threading\n",
    "import time\n",
    "\n",
    "class LongTaskApp:\n",
    "    def __init__(self, root):\n",
    "        self.root = root\n",
    "        self.button = tk.Button(root, text=\"Run Task\", command=self.start_task)\n",
    "        self.button.pack()\n",
    "    \n",
    "    def start_task(self):\n",
    "        self.button.config(state=tk.DISABLED)\n",
    "        threading.Thread(target=self.run_task, daemon=True).start()\n",
    "    \n",
    "    def run_task(self):\n",
    "        # Simulate long-running task\n",
    "        time.sleep(3)\n",
    "        self.root.after(0, self.task_completed)\n",
    "    \n",
    "    def task_completed(self):\n",
    "        self.button.config(state=tk.NORMAL)\n",
    "        tk.messagebox.showinfo(\"Done\", \"Task completed!\")\n",
    "\n",
    "root = tk.Tk()\n",
    "app = LongTaskApp(root)\n",
    "root.mainloop()"
   ]
  },
  {
   "cell_type": "markdown",
   "metadata": {},
   "source": [
    "---"
   ]
  },
  {
   "cell_type": "markdown",
   "metadata": {},
   "source": [
    "## 2. Software Testing Pyramid <a name=\"testing-pyramid\"></a>\n",
    "\n",
    "```\n",
    "        ___________________\n",
    "       /                   \\\n",
    "      /    Acceptance      \\\n",
    "     /_____________________\\\n",
    "    /                       \\\n",
    "   /       System           \\\n",
    "  /_________________________\\\n",
    " /                           \\\n",
    "/         Integration        \\\n",
    "\\___________________________/\n",
    " \\                         /\n",
    "  \\       Unit            /\n",
    "   \\____________________/\n",
    "```\n",
    "\n",
    "### **2.1 Unit Testing**\n",
    "- Tests individual components in isolation\n",
    "- Fast execution (milliseconds per test)\n",
    "- 70-80% of all tests\n",
    "- Example: Testing a single function\n",
    "\n",
    "### **2.2 Integration Testing**\n",
    "- Tests interactions between components\n",
    "- Medium execution speed\n",
    "- 15-20% of tests\n",
    "- Example: Testing database interactions\n",
    "\n",
    "### **2.3 System Testing**\n",
    "- Tests complete system\n",
    "- Slow execution\n",
    "- 5-10% of tests\n",
    "- Example: Testing API endpoints\n",
    "\n",
    "### **2.4 Acceptance Testing**\n",
    "- Validates business requirements\n",
    "- Very slow (manual or automated UI tests)\n",
    "- 1-5% of tests\n",
    "- Example: Selenium tests"
   ]
  },
  {
   "cell_type": "markdown",
   "metadata": {},
   "source": [
    "---"
   ]
  },
  {
   "cell_type": "markdown",
   "metadata": {},
   "source": [
    "## 3. Advanced unittest Features <a name=\"advanced-unittest\"></a>\n",
    "\n",
    "### **3.1 Parameterized Tests**\n",
    "Using `subTest` for data-driven testing:"
   ]
  },
  {
   "cell_type": "code",
   "execution_count": null,
   "metadata": {},
   "outputs": [],
   "source": [
    "import unittest\n",
    "\n",
    "class TestMath(unittest.TestCase):\n",
    "    def test_multiply(self):\n",
    "        test_cases = [\n",
    "            (2, 3, 6),\n",
    "            (0, 5, 0),\n",
    "            (-1, 1, -1),\n",
    "            (1.5, 2, 3.0)\n",
    "        ]\n",
    "        \n",
    "        for a, b, expected in test_cases:\n",
    "            with self.subTest(a=a, b=b):\n",
    "                self.assertEqual(a * b, expected)\n",
    "\n",
    "if __name__ == \"__main__\":\n",
    "    unittest.main(argv=['first-arg-is-ignored'], exit=False)"
   ]
  },
  {
   "cell_type": "markdown",
   "metadata": {},
   "source": [
    "### **3.2 Mocking and Patching**\n",
    "Isolating components during testing:"
   ]
  },
  {
   "cell_type": "code",
   "execution_count": null,
   "metadata": {},
   "outputs": [],
   "source": [
    "from unittest.mock import patch, MagicMock\n",
    "\n",
    "class Database:\n",
    "    def get_user(self, user_id):\n",
    "        # Actual database call\n",
    "        pass\n",
    "\n",
    "class TestUserService(unittest.TestCase):\n",
    "    @patch('__main__.Database')\n",
    "    def test_get_user(self, mock_db):\n",
    "        # Configure mock\n",
    "        mock_db.return_value.get_user.return_value = {'id': 1, 'name': 'Test'}\n",
    "        \n",
    "        # Test code that uses Database\n",
    "        service = UserService(mock_db())\n",
    "        user = service.get_user(1)\n",
    "        \n",
    "        self.assertEqual(user['name'], 'Test')\n",
    "        mock_db.return_value.get_user.assert_called_once_with(1)\n",
    "\n",
    "class UserService:\n",
    "    def __init__(self, db):\n",
    "        self.db = db\n",
    "    \n",
    "    def get_user(self, user_id):\n",
    "        return self.db.get_user(user_id)"
   ]
  },
  {
   "cell_type": "markdown",
   "metadata": {},
   "source": [
    "### **3.3 Test Suites**\n",
    "Organizing tests into suites:"
   ]
  },
  {
   "cell_type": "code",
   "execution_count": null,
   "metadata": {},
   "outputs": [],
   "source": [
    "def suite():\n",
    "    suite = unittest.TestSuite()\n",
    "    suite.addTest(TestMath('test_multiply'))\n",
    "    suite.addTest(TestUserService('test_get_user'))\n",
    "    return suite\n",
    "\n",
    "if __name__ == \"__main__\":\n",
    "    runner = unittest.TextTestRunner()\n",
    "    runner.run(suite())"
   ]
  },
  {
   "cell_type": "markdown",
   "metadata": {},
   "source": [
    "---"
   ]
  },
  {
   "cell_type": "markdown",
   "metadata": {},
   "source": [
    "## 4. Alternative Testing Frameworks <a name=\"alt-testing\"></a>\n",
    "\n",
    "### **4.1 pytest**\n",
    "More concise syntax and powerful features:"
   ]
  },
  {
   "cell_type": "code",
   "execution_count": null,
   "metadata": {},
   "outputs": [],
   "source": [
    "# pytest example (normally in separate test_*.py files)\n",
    "def test_addition():\n",
    "    assert 1 + 1 == 2\n",
    "\n",
    "import pytest\n",
    "\n",
    "@pytest.mark.parametrize(\"a,b,expected\", [\n",
    "    (1, 2, 3),\n",
    "    (0, 0, 0),\n",
    "    (-1, 1, 0)\n",
    "])\n",
    "def test_add(a, b, expected):\n",
    "    assert a + b == expected"
   ]
  },
  {
   "cell_type": "markdown",
   "metadata": {},
   "source": [
    "### **4.2 doctest**\n",
    "Tests embedded in docstrings:"
   ]
  },
  {
   "cell_type": "code",
   "execution_count": null,
   "metadata": {},
   "outputs": [],
   "source": [
    "def factorial(n):\n",
    "    \"\"\"\n",
    "    Compute the factorial of n\n",
    "    \n",
    "    >>> factorial(0)\n",
    "    1\n",
    "    >>> factorial(5)\n",
    "    120\n",
    "    \"\"\"\n",
    "    return 1 if n == 0 else n * factorial(n-1)\n",
    "\n",
    "if __name__ == \"__main__\":\n",
    "    import doctest\n",
    "    doctest.testmod()"
   ]
  },
  {
   "cell_type": "markdown",
   "metadata": {},
   "source": [
    "---"
   ]
  },
  {
   "cell_type": "markdown",
   "metadata": {},
   "source": [
    "## 5. Exercises <a name=\"exercises\"></a>\n",
    "\n",
    "1. **tkinter**: Create a custom widget combining:\n",
    "   - Entry field\n",
    "   - Validation label\n",
    "   - Character counter\n",
    "\n",
    "2. **Testing**: Write parameterized tests for:\n",
    "   - Email validation function\n",
    "   - Password strength checker\n",
    "   - Using both unittest and pytest styles\n",
    "\n",
    "---"
   ]
  },
  {
   "cell_type": "markdown",
   "metadata": {},
   "source": [
    "## 6. Homework <a name=\"homework\"></a>\n",
    "\n",
    "1. **GUI Application**: Build a CSV viewer with:\n",
    "   - File open dialog\n",
    "   - Table display (use `ttk.Treeview`)\n",
    "   - Search/filter functionality\n",
    "\n",
    "2. **Test Suite**: Create a complete test suite for a blog system:\n",
    "   - Unit tests for models\n",
    "   - Integration tests for database layer\n",
    "   - System tests for API endpoints\n",
    "   - Use mocking where appropriate\n",
    "\n",
    "---"
   ]
  },
  {
   "cell_type": "markdown",
   "metadata": {},
   "source": [
    "## End of Week 7"
   ]
  }
 ],
 "metadata": {
  "kernelspec": {
   "display_name": "Python 3",
   "language": "python",
   "name": "python3"
  },
  "language_info": {
   "codemirror_mode": {
    "name": "ipython",
    "version": 3
   },
   "file_extension": ".py",
   "mimetype": "text/x-python",
   "name": "python",
   "nbconvert_exporter": "python",
   "pygments_lexer": "ipython3",
   "version": "3.10.0"
  }
 },
 "nbformat": 4,
 "nbformat_minor": 4
}
