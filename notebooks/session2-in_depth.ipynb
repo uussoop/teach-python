{
 "cells": [
  {
   "cell_type": "markdown",
   "metadata": {},
   "source": [
    "# Week 2: Basic Python - Part 1 (Technical Deep Dive)\n",
    "\n",
    "---\n",
    "\n",
    "## Table of Contents\n",
    "1. [Variables as Objects](#variables-as-objects)\n",
    "2. [Python’s Type System](#type-system)\n",
    "3. [Operators and Magic Methods](#operators)\n",
    "4. [Input/Output (I/O)](#io)\n",
    "5. [Exercises](#exercises)\n",
    "6. [Homework](#homework)\n",
    "\n",
    "---"
   ]
  },
  {
   "cell_type": "markdown",
   "metadata": {},
   "source": [
    "## 1. Variables as Objects <a name=\"variables-as-objects\"></a>\n",
    "\n",
    "In Python, **everything is an object**. Variables are not \"boxes\" that hold data—they are **references** to objects in memory.\n",
    "\n",
    "### **1.1 How Variables Work**\n",
    "- When you assign `x = 10`, `x` becomes a reference to an `int` object with value `10`.\n",
    "- Objects have three properties:\n",
    "  1. **Identity**: Unique memory address (use `id(x)`).\n",
    "  2. **Type**: Determines behavior (use `type(x)`).\n",
    "  3. **Value**: The actual data.\n",
    "\n",
    "### **1.2 Example: Variables as References**"
   ]
  },
  {
   "cell_type": "code",
   "execution_count": null,
   "metadata": {},
   "outputs": [],
   "source": [
    "a = 10\n",
    "b = a  # Both `a` and `b` reference the same object\n",
    "print(f\"id(a): {id(a)}, id(b): {id(b)}\")\n",
    "\n",
    "b = 20  # `b` now references a new object\n",
    "print(f\"id(a): {id(a)}, id(b): {id(b)}\")"
   ]
  },
  {
   "cell_type": "markdown",
   "metadata": {},
   "source": [
    "### **1.3 Why Objects?**\n",
    "- Python’s object model allows **dynamic typing** (variables can reference any type).\n",
    "- Objects can have **methods** (e.g., `str.upper()`) and support operator overloading (e.g., `+` calls `__add__()`)."
   ]
  },
  {
   "cell_type": "markdown",
   "metadata": {},
   "source": [
    "## 2. Python’s Type System <a name=\"type-system\"></a>\n",
    "\n",
    "### **2.1 Types are Classes**\n",
    "- Every type (e.g., `int`, `str`) is a **class**. When you create a variable, you’re instantiating an object of that class.\n",
    "- Example:\n",
    "  ```python\n",
    "  num = 5      # Instance of `int` class\n",
    "  name = \"Bob\" # Instance of `str` class\n",
    "  ```\n",
    "\n",
    "### **2.2 Mutable vs. Immutable Types**\n",
    "- **Immutable**: Cannot change after creation (e.g., `int`, `str`, `tuple`).\n",
    "- **Mutable**: Can change after creation (e.g., `list`, `dict`, `set`).\n",
    "\n",
    "### **2.3 Example: Immutability**"
   ]
  },
  {
   "cell_type": "code",
   "execution_count": null,
   "metadata": {},
   "outputs": [],
   "source": [
    "# Immutable example\n",
    "x = \"Hello\"\n",
    "print(f\"Original id: {id(x)}\")\n",
    "x = x + \" World\"  # Creates a new object\n",
    "print(f\"New id: {id(x)}\")\n",
    "\n",
    "# Mutable example\n",
    "y = [1, 2, 3]\n",
    "print(f\"Original id: {id(y)}\")\n",
    "y.append(4)       # Modifies the same object\n",
    "print(f\"New id: {id(y)}\")"
   ]
  },
  {
   "cell_type": "markdown",
   "metadata": {},
   "source": [
    "### **2.4 Why Immutability?**\n",
    "- Immutable objects are safer in concurrent programming (no race conditions).\n",
    "- They allow Python to optimize memory (e.g., small integers are interned)."
   ]
  },
  {
   "cell_type": "markdown",
   "metadata": {},
   "source": [
    "## 3. Operators and Magic Methods <a name=\"operators\"></a>\n",
    "\n",
    "### **3.1 Operators are Methods**\n",
    "- Operators like `+`, `-`, `==` are shorthand for **magic methods** (e.g., `__add__`, `__eq__`).\n",
    "- Example:\n",
    "  ```python\n",
    "  a = 10\n",
    "  b = 20\n",
    "  a + b  # Equivalent to a.__add__(b)\n",
    "  ```\n",
    "\n",
    "### **3.2 Example: Operator Overloading**"
   ]
  },
  {
   "cell_type": "code",
   "execution_count": null,
   "metadata": {},
   "outputs": [],
   "source": [
    "class Vector:\n",
    "    def __init__(self, x, y):\n",
    "        self.x = x\n",
    "        self.y = y\n",
    "    \n",
    "    def __add__(self, other):\n",
    "        return Vector(self.x + other.x, self.y + other.y)\n",
    "\n",
    "v1 = Vector(1, 2)\n",
    "v2 = Vector(3, 4)\n",
    "v3 = v1 + v2  # Calls v1.__add__(v2)\n",
    "print(f\"v3: ({v3.x}, {v3.y})\")"
   ]
  },
  {
   "cell_type": "markdown",
   "metadata": {},
   "source": [
    "### **3.3 Why Magic Methods?**\n",
    "- Allow custom classes to emulate built-in types (e.g., making `+` work for `Vector`).\n",
    "- Provide consistency with Python’s object model."
   ]
  },
  {
   "cell_type": "markdown",
   "metadata": {},
   "source": [
    "## 4. Input/Output (I/O) <a name=\"io\"></a>\n",
    "\n",
    "### **4.1 `input()` and `print()` as Functions**\n",
    "- `input()` reads from `stdin` (standard input stream).\n",
    "- `print()` writes to `stdout` (standard output stream).\n",
    "\n",
    "### **4.2 Example: File I/O**"
   ]
  },
  {
   "cell_type": "code",
   "execution_count": null,
   "metadata": {},
   "outputs": [],
   "source": [
    "# Writing to a file\n",
    "with open(\"test.txt\", \"w\") as f:\n",
    "    f.write(\"Hello, Python!\")\n",
    "\n",
    "# Reading from a file\n",
    "with open(\"test.txt\", \"r\") as f:\n",
    "    content = f.read()\n",
    "print(content)"
   ]
  },
  {
   "cell_type": "markdown",
   "metadata": {},
   "source": [
    "### **4.3 Why Use `with`?**\n",
    "- The `with` statement ensures proper resource management (automatically closes files).\n",
    "- Avoids memory leaks and file corruption."
   ]
  },
  {
   "cell_type": "markdown",
   "metadata": {},
   "source": [
    "## 5. Exercises <a name=\"exercises\"></a>\n",
    "\n",
    "1. **Object Identity**: Create two variables referencing the same integer. Check their IDs. Then change one and check again.\n",
    "2. **Mutability**: Create a list and a tuple. Try modifying both and observe the behavior.\n",
    "3. **Operator Overloading**: Extend the `Vector` class to support subtraction (`-`)."
   ]
  },
  {
   "cell_type": "markdown",
   "metadata": {},
   "source": [
    "## 6. Homework <a name=\"homework\"></a>\n",
    "\n",
    "1. Write a class `Circle` with a method to calculate its area. Overload the `==` operator to compare two circles by radius.\n",
    "2. Create a function that swaps two variables. Explain why the original variables outside the function remain unchanged.\n",
    "3. Use `id()` to demonstrate that small integers (e.g., 0-256) are interned in Python."
   ]
  },
  {
   "cell_type": "markdown",
   "metadata": {},
   "source": [
    "---\n",
    "\n",
    "## End of Week 2"
   ]
  }
 ],
 "metadata": {
  "kernelspec": {
   "display_name": "Python 3",
   "language": "python",
   "name": "python3"
  },
  "language_info": {
   "codemirror_mode": {
    "name": "ipython",
    "version": 3
   },
   "file_extension": ".py",
   "mimetype": "text/x-python",
   "name": "python",
   "nbconvert_exporter": "python",
   "pygments_lexer": "ipython3",
   "version": "3.10.0"
  }
 },
 "nbformat": 4,
 "nbformat_minor": 4
}
